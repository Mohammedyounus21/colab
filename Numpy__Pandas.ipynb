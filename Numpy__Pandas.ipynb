{
  "nbformat": 4,
  "nbformat_minor": 0,
  "metadata": {
    "colab": {
      "provenance": [],
      "authorship_tag": "ABX9TyOra+7DD+sqvflk7IqhYpUE",
      "include_colab_link": true
    },
    "kernelspec": {
      "name": "python3",
      "display_name": "Python 3"
    },
    "language_info": {
      "name": "python"
    }
  },
  "cells": [
    {
      "cell_type": "markdown",
      "metadata": {
        "id": "view-in-github",
        "colab_type": "text"
      },
      "source": [
        "<a href=\"https://colab.research.google.com/github/Mohammedyounus21/colab/blob/main/Numpy__Pandas.ipynb\" target=\"_parent\"><img src=\"https://colab.research.google.com/assets/colab-badge.svg\" alt=\"Open In Colab\"/></a>"
      ]
    },
    {
      "cell_type": "code",
      "source": [
        "pip install numpy"
      ],
      "metadata": {
        "colab": {
          "base_uri": "https://localhost:8080/"
        },
        "id": "-pclny21NdLk",
        "outputId": "31bc005a-6c49-42cf-eede-d26a5554d685"
      },
      "execution_count": null,
      "outputs": [
        {
          "output_type": "stream",
          "name": "stdout",
          "text": [
            "Requirement already satisfied: numpy in /usr/local/lib/python3.11/dist-packages (1.26.4)\n"
          ]
        }
      ]
    },
    {
      "cell_type": "code",
      "execution_count": null,
      "metadata": {
        "colab": {
          "base_uri": "https://localhost:8080/"
        },
        "id": "v08wkO5MKlcg",
        "outputId": "25e714a8-479d-4bd3-8622-e4cf334ecf17"
      },
      "outputs": [
        {
          "output_type": "stream",
          "name": "stdout",
          "text": [
            "data array:\n",
            " [[ 25 175  70]\n",
            " [ 30 167  78]\n",
            " [ 35 160  90]\n",
            " [ 40 170  80]\n",
            " [ 28 165  68]]\n"
          ]
        }
      ],
      "source": [
        "#numpy arrays: creating an array\n",
        "import numpy as np\n",
        "\n",
        "#sample dataset as a 2D array\n",
        "data=np.array([\n",
        "    [25,175,70],\n",
        "    [30,167,78],\n",
        "    [35,160,90],\n",
        "    [40,170,80],\n",
        "    [28,165,68]\n",
        "])\n",
        "print(\"data array:\\n\",data)"
      ]
    },
    {
      "cell_type": "markdown",
      "source": [
        "indexing start from 0"
      ],
      "metadata": {
        "id": "kDyo9rmSOqPz"
      }
    },
    {
      "cell_type": "code",
      "source": [
        "#accessing elements\n",
        "\n",
        "age_second_person =data[1,0] #rw 1 , column 0\n",
        "weight_second_person =data[1,2]\n",
        "print(age_second_person)\n",
        "print(weight_second_person)"
      ],
      "metadata": {
        "colab": {
          "base_uri": "https://localhost:8080/"
        },
        "id": "dyC7geE2OhnP",
        "outputId": "3d21a7a8-add3-4ee2-c3e6-7974928613c4"
      },
      "execution_count": null,
      "outputs": [
        {
          "output_type": "stream",
          "name": "stdout",
          "text": [
            "30\n",
            "78\n"
          ]
        }
      ]
    },
    {
      "cell_type": "code",
      "source": [
        "#modifying values\n",
        "\n",
        "data[0,1]=180\n",
        "print(data)"
      ],
      "metadata": {
        "colab": {
          "base_uri": "https://localhost:8080/"
        },
        "id": "BMzDl-h7QPJK",
        "outputId": "9df3ee99-e300-47e6-eca0-4936076d7901"
      },
      "execution_count": null,
      "outputs": [
        {
          "output_type": "stream",
          "name": "stdout",
          "text": [
            "[[ 25 180  70]\n",
            " [ 30 167  78]\n",
            " [ 35 160  90]\n",
            " [ 40 170  80]\n",
            " [ 28 165  68]]\n"
          ]
        }
      ]
    },
    {
      "cell_type": "code",
      "source": [
        "#Indexing : retrieving specific elements\n",
        "\n",
        "height_second_person =data[1,1]\n",
        "print(height_second_person)"
      ],
      "metadata": {
        "colab": {
          "base_uri": "https://localhost:8080/"
        },
        "id": "V7cJBiNNQhID",
        "outputId": "87a34829-437c-40e9-d62f-5ff54757e4f5"
      },
      "execution_count": null,
      "outputs": [
        {
          "output_type": "stream",
          "name": "stdout",
          "text": [
            "167\n"
          ]
        }
      ]
    },
    {
      "cell_type": "markdown",
      "source": [
        "all is written by : example a[:,value]"
      ],
      "metadata": {
        "id": "nReVWkznRD3e"
      }
    },
    {
      "cell_type": "code",
      "source": [
        "import numpy as np\n",
        "\n",
        "#sample dataset as a 2D array\n",
        "data=np.array([\n",
        "    [25,175,70],\n",
        "    [30,167,78],\n",
        "    [35,160,90],\n",
        "    [40,170,80],\n",
        "    [28,165,68]\n",
        "])\n",
        "\n",
        "height=data[:,1]\n",
        "print(height)"
      ],
      "metadata": {
        "colab": {
          "base_uri": "https://localhost:8080/"
        },
        "id": "fz991HrkQ9Nb",
        "outputId": "8577bee5-163f-47a6-9b2a-a10f75c2bab9"
      },
      "execution_count": null,
      "outputs": [
        {
          "output_type": "stream",
          "name": "stdout",
          "text": [
            "[175 167 160 170 165]\n"
          ]
        }
      ]
    },
    {
      "cell_type": "markdown",
      "source": [
        "for specific values like top 3 rows :3"
      ],
      "metadata": {
        "id": "iwLpIq6HRmjo"
      }
    },
    {
      "cell_type": "code",
      "source": [
        "age_first_three_rows=data[:3,0]\n",
        "print(age_first_three_rows)"
      ],
      "metadata": {
        "colab": {
          "base_uri": "https://localhost:8080/"
        },
        "id": "ndAF6od4ReA8",
        "outputId": "00e5ed63-9dc9-44e6-ea7a-8677220034bc"
      },
      "execution_count": null,
      "outputs": [
        {
          "output_type": "stream",
          "name": "stdout",
          "text": [
            "[25 30 35]\n"
          ]
        }
      ]
    },
    {
      "cell_type": "code",
      "source": [
        "#iterating over rows in a 2D numpy array\n",
        "import numpy as np\n",
        "\n",
        "#sample dataset as a 2D array\n",
        "data=np.array([\n",
        "    [25,175,70],\n",
        "    [30,167,78],\n",
        "    [35,160,90],\n",
        "    [40,170,80],\n",
        "    [28,165,68]\n",
        "])\n",
        "\n",
        "#iterate over each row\n",
        "for person in data:\n",
        "  print(\"person data\",person)"
      ],
      "metadata": {
        "colab": {
          "base_uri": "https://localhost:8080/"
        },
        "id": "CgL7iXMHR8pc",
        "outputId": "c88e88e8-ddf8-4fb4-80a0-5664caf777fa"
      },
      "execution_count": null,
      "outputs": [
        {
          "output_type": "stream",
          "name": "stdout",
          "text": [
            "person data [ 25 175  70]\n",
            "person data [ 30 167  78]\n",
            "person data [ 35 160  90]\n",
            "person data [ 40 170  80]\n",
            "person data [ 28 165  68]\n"
          ]
        }
      ]
    },
    {
      "cell_type": "code",
      "source": [
        "#practical use cases\n",
        "#row by row analysis\n",
        "\n",
        "for person in data:\n",
        "  age,height,weight=person #unpack the attributes\n",
        "  print(f\"age:{age}, height:{height}, weight:{weight}\")"
      ],
      "metadata": {
        "colab": {
          "base_uri": "https://localhost:8080/"
        },
        "id": "nJMjrc2KSgZa",
        "outputId": "0da68a53-1ad1-4700-d0f8-c7bab4cff3b2"
      },
      "execution_count": null,
      "outputs": [
        {
          "output_type": "stream",
          "name": "stdout",
          "text": [
            "age:25, height:175, weight:70\n",
            "age:30, height:167, weight:78\n",
            "age:35, height:160, weight:90\n",
            "age:40, height:170, weight:80\n",
            "age:28, height:165, weight:68\n"
          ]
        }
      ]
    },
    {
      "cell_type": "code",
      "source": [
        "for person in data:\n",
        "  age,height,weight=person\n",
        "  bmi=weight/height**2 #bmi formula\n",
        "  print(f\"person with age{age} has bmi :{bmi:.2f}\")"
      ],
      "metadata": {
        "colab": {
          "base_uri": "https://localhost:8080/"
        },
        "id": "Pn7oUjg_TDlf",
        "outputId": "e5d64835-96d5-44e3-dda6-bb6cb6df7304"
      },
      "execution_count": null,
      "outputs": [
        {
          "output_type": "stream",
          "name": "stdout",
          "text": [
            "person with age25 has bmi :0.00\n",
            "person with age30 has bmi :0.00\n",
            "person with age35 has bmi :0.00\n",
            "person with age40 has bmi :0.00\n",
            "person with age28 has bmi :0.00\n"
          ]
        }
      ]
    },
    {
      "cell_type": "markdown",
      "source": [
        ".shape=provides number of rows and number of columns"
      ],
      "metadata": {
        "id": "CklL_qp7UHaR"
      }
    },
    {
      "cell_type": "code",
      "source": [
        "print(\"shape of the array\",data.shape)"
      ],
      "metadata": {
        "colab": {
          "base_uri": "https://localhost:8080/"
        },
        "id": "wW-O1A1cTf5o",
        "outputId": "2b43369a-ffa6-47ad-d842-7dbb3fd5d18e"
      },
      "execution_count": null,
      "outputs": [
        {
          "output_type": "stream",
          "name": "stdout",
          "text": [
            "shape of the array (5, 3)\n"
          ]
        }
      ]
    },
    {
      "cell_type": "markdown",
      "source": [
        ".size=gives total number of elements"
      ],
      "metadata": {
        "id": "M4bbq0HUUZ1A"
      }
    },
    {
      "cell_type": "code",
      "source": [
        "print(\"size of the array\",data.size) # total 5rowsX3colums=15"
      ],
      "metadata": {
        "colab": {
          "base_uri": "https://localhost:8080/"
        },
        "id": "e4DYdSnwUUk3",
        "outputId": "bf234ade-b5fc-494b-fa06-513129e9ee1c"
      },
      "execution_count": null,
      "outputs": [
        {
          "output_type": "stream",
          "name": "stdout",
          "text": [
            "size of the array 15\n"
          ]
        }
      ]
    },
    {
      "cell_type": "markdown",
      "source": [
        ".ndim=total number of axis\n",
        "\n",
        "their are 2 axis (total number of dimensions) is 1st is row and 2nd is column total 2 axis"
      ],
      "metadata": {
        "id": "42VPFvLmUvQj"
      }
    },
    {
      "cell_type": "code",
      "source": [
        "print(\"number of dimensions:\",data.ndim)"
      ],
      "metadata": {
        "colab": {
          "base_uri": "https://localhost:8080/"
        },
        "id": "ChnTjzwaUjXH",
        "outputId": "7c142e4f-fa21-444e-c3de-79a1d1e652d5"
      },
      "execution_count": null,
      "outputs": [
        {
          "output_type": "stream",
          "name": "stdout",
          "text": [
            "number of dimensions: 2\n"
          ]
        }
      ]
    },
    {
      "cell_type": "markdown",
      "source": [
        "dtype=the type of elements it contains"
      ],
      "metadata": {
        "id": "SmwDZDr7VWyZ"
      }
    },
    {
      "cell_type": "code",
      "source": [
        "print(\"data type of the array:\",data.dtype)"
      ],
      "metadata": {
        "colab": {
          "base_uri": "https://localhost:8080/"
        },
        "id": "p85X3VJ_VNQt",
        "outputId": "f1261e2d-8dc2-4e2e-f9f0-831262fa524f"
      },
      "execution_count": null,
      "outputs": [
        {
          "output_type": "stream",
          "name": "stdout",
          "text": [
            "data type of the array: int64\n"
          ]
        }
      ]
    },
    {
      "cell_type": "markdown",
      "source": [
        "Mathematical operations on array\n",
        "\n",
        "*   Broadcasting\n",
        "*   vectorized operations\n",
        "\n"
      ],
      "metadata": {
        "id": "-bdxQDO0VrOu"
      }
    },
    {
      "cell_type": "markdown",
      "source": [
        "for doing operations on list we use for loops"
      ],
      "metadata": {
        "id": "JQkiEfR_WHla"
      }
    },
    {
      "cell_type": "code",
      "source": [
        "#vectorized operations: these enable mathematical comutations directly on arrays. these operations are applied element wise and highly optimized , better performance compared to using loops\n",
        "\n",
        "import numpy as np\n",
        "\n",
        "#sample dataset as a 2D array\n",
        "data=np.array([\n",
        "    [25,175,70],\n",
        "    [30,167,78],\n",
        "    [35,160,90],\n",
        "    [40,170,80],\n",
        "    [28,165,68]\n",
        "])\n",
        "\n",
        "#convert heights from cm to meters\n",
        "height_in_meters=data[:,1]/100# rows all (:) and in col 1st\n",
        "print(height_in_meters)"
      ],
      "metadata": {
        "colab": {
          "base_uri": "https://localhost:8080/"
        },
        "id": "ncDuy8g1Vkv1",
        "outputId": "4584f743-b6ba-4f2c-bcf5-d30cc92eeab0"
      },
      "execution_count": null,
      "outputs": [
        {
          "output_type": "stream",
          "name": "stdout",
          "text": [
            "[1.75 1.67 1.6  1.7  1.65]\n"
          ]
        }
      ]
    },
    {
      "cell_type": "markdown",
      "source": [
        "broadcasting : after doing mathematical operations it will broadcast to all elements means it will perform individually on each element"
      ],
      "metadata": {
        "id": "fr5UN0WFXn5-"
      }
    },
    {
      "cell_type": "code",
      "source": [
        "#substract 5 years from each persons age\n",
        "age_minus_five=data[:,0]-5\n",
        "print(age_minus_five)"
      ],
      "metadata": {
        "colab": {
          "base_uri": "https://localhost:8080/"
        },
        "id": "4G1838__YA0h",
        "outputId": "db9012c6-ae3c-47d9-bfa6-37275ea3c562"
      },
      "execution_count": null,
      "outputs": [
        {
          "output_type": "stream",
          "name": "stdout",
          "text": [
            "[20 25 30 35 23]\n"
          ]
        }
      ]
    },
    {
      "cell_type": "markdown",
      "source": [
        "Reshaping array=firstly we have 5X3 matrix we will convert to 3X5 matrix the elements 15 will be maintained"
      ],
      "metadata": {
        "id": "Q95AvtcVYdul"
      }
    },
    {
      "cell_type": "code",
      "source": [
        "import numpy as np\n",
        "\n",
        "#sample dataset as a 2D array\n",
        "data=np.array([\n",
        "    [25,175,70],\n",
        "    [30,167,78],\n",
        "    [35,160,90],\n",
        "    [40,170,80],\n",
        "    [28,165,68]\n",
        "])\n",
        "\n",
        "#reshape data array to a 3x5 array\n",
        "reshaped_data=data.reshape(3,5)\n",
        "print(\"Reshaped array(3x5):\\n\",reshaped_data)"
      ],
      "metadata": {
        "colab": {
          "base_uri": "https://localhost:8080/"
        },
        "id": "EbOxjMj4Yq2K",
        "outputId": "ab2cb5a9-068f-4e1c-8252-c8d9efd69d6c"
      },
      "execution_count": null,
      "outputs": [
        {
          "output_type": "stream",
          "name": "stdout",
          "text": [
            "Reshaped array(3x5):\n",
            " [[ 25 175  70  30 167]\n",
            " [ 78  35 160  90  40]\n",
            " [170  80  28 165  68]]\n"
          ]
        }
      ]
    },
    {
      "cell_type": "markdown",
      "source": [
        "Transposing array : row ka column and column ka row"
      ],
      "metadata": {
        "id": "-FkDsya2ZSPT"
      }
    },
    {
      "cell_type": "code",
      "source": [
        "# R -> C\n",
        "# C-> R\n",
        "transposed_data=data.T\n",
        "print(\"Transposed array:\\n\",transposed_data)"
      ],
      "metadata": {
        "colab": {
          "base_uri": "https://localhost:8080/"
        },
        "id": "oz7T_W-sZOrS",
        "outputId": "0bd51925-2a58-48df-bf39-6a7c3ff31f43"
      },
      "execution_count": null,
      "outputs": [
        {
          "output_type": "stream",
          "name": "stdout",
          "text": [
            "Transposed array:\n",
            " [[ 25  30  35  40  28]\n",
            " [175 167 160 170 165]\n",
            " [ 70  78  90  80  68]]\n"
          ]
        }
      ]
    },
    {
      "cell_type": "code",
      "source": [
        "# working with N-Dimensional arrays\n",
        "\n",
        "import numpy as np\n",
        "\n",
        "# creating a 3D array\n",
        "data_3d=np.array([\n",
        "    [[25,175,70],[30,167,78]],\n",
        "    [[35,160,90],[40,170,80]]\n",
        "])\n",
        "\n",
        "print(\"3D array:\\n\",data_3d)"
      ],
      "metadata": {
        "colab": {
          "base_uri": "https://localhost:8080/"
        },
        "id": "jE4bso5yZr14",
        "outputId": "e5c94645-8f5a-4c48-af95-7330d78a8063"
      },
      "execution_count": null,
      "outputs": [
        {
          "output_type": "stream",
          "name": "stdout",
          "text": [
            "3D array:\n",
            " [[[ 25 175  70]\n",
            "  [ 30 167  78]]\n",
            "\n",
            " [[ 35 160  90]\n",
            "  [ 40 170  80]]]\n"
          ]
        }
      ]
    },
    {
      "cell_type": "markdown",
      "source": [
        "Creating arrays of zeros:np.zeros()\n",
        "the np.zeros() function cretes an array filled with zeros"
      ],
      "metadata": {
        "id": "o-xYAHENa2yu"
      }
    },
    {
      "cell_type": "code",
      "source": [
        "import numpy as np\n",
        "\n",
        "# create a 3x3 array filled with zeros\n",
        "zeros_array = np.zeros((3, 3))\n",
        "\n",
        "# print the array\n",
        "print(zeros_array)\n"
      ],
      "metadata": {
        "colab": {
          "base_uri": "https://localhost:8080/"
        },
        "id": "V1bxGyZ_aV6K",
        "outputId": "9bc7c192-3e81-442b-fb02-a7e0c7637432"
      },
      "execution_count": null,
      "outputs": [
        {
          "output_type": "stream",
          "name": "stdout",
          "text": [
            "[[0. 0. 0.]\n",
            " [0. 0. 0.]\n",
            " [0. 0. 0.]]\n"
          ]
        }
      ]
    },
    {
      "cell_type": "code",
      "source": [
        "#np.ones() : the np.ones() function creates an array filled with ones\n",
        "import numpy as np\n",
        "one_array=np.ones((2,4))\n",
        "print(one_array)"
      ],
      "metadata": {
        "colab": {
          "base_uri": "https://localhost:8080/"
        },
        "id": "4UaeyBdobZN_",
        "outputId": "86817af5-a73c-4048-fa20-9a36883cf213"
      },
      "execution_count": null,
      "outputs": [
        {
          "output_type": "stream",
          "name": "stdout",
          "text": [
            "[[1. 1. 1. 1.]\n",
            " [1. 1. 1. 1.]]\n"
          ]
        }
      ]
    },
    {
      "cell_type": "markdown",
      "source": [
        "ADVANCED NUMPY"
      ],
      "metadata": {
        "id": "e3XvPJlhkPEy"
      }
    },
    {
      "cell_type": "markdown",
      "source": [
        "np.arange() : similar to range() in python it is a function in numpy used to create a sequence of numbers"
      ],
      "metadata": {
        "id": "UFPmuAyJkgKU"
      }
    },
    {
      "cell_type": "code",
      "source": [
        "np.arange(10)"
      ],
      "metadata": {
        "id": "35FwzEfhbvII",
        "colab": {
          "base_uri": "https://localhost:8080/"
        },
        "outputId": "2be33e6c-d6c9-4764-d1b5-87dba9686f59"
      },
      "execution_count": null,
      "outputs": [
        {
          "output_type": "execute_result",
          "data": {
            "text/plain": [
              "array([0, 1, 2, 3, 4, 5, 6, 7, 8, 9])"
            ]
          },
          "metadata": {},
          "execution_count": 43
        }
      ]
    },
    {
      "cell_type": "code",
      "source": [
        "np.arange(2,10)"
      ],
      "metadata": {
        "colab": {
          "base_uri": "https://localhost:8080/"
        },
        "id": "zDKG1AXIk2Fs",
        "outputId": "d0786e9f-91cc-430b-ee8e-afe77902bf7a"
      },
      "execution_count": null,
      "outputs": [
        {
          "output_type": "execute_result",
          "data": {
            "text/plain": [
              "array([2, 3, 4, 5, 6, 7, 8, 9])"
            ]
          },
          "metadata": {},
          "execution_count": 44
        }
      ]
    },
    {
      "cell_type": "code",
      "source": [
        "np.arange(2,10,2) # start ,stop,step values"
      ],
      "metadata": {
        "colab": {
          "base_uri": "https://localhost:8080/"
        },
        "id": "c-13SZ9uk_Bk",
        "outputId": "7c9721b3-c34b-4f95-95f0-49643d8bc016"
      },
      "execution_count": null,
      "outputs": [
        {
          "output_type": "execute_result",
          "data": {
            "text/plain": [
              "array([2, 4, 6, 8])"
            ]
          },
          "metadata": {},
          "execution_count": 46
        }
      ]
    },
    {
      "cell_type": "code",
      "source": [
        "#Horizontal stack(hp.hstack)\n",
        "import numpy as np\n",
        "a=np.array([1,2,3])\n",
        "b=np.array([4,5,6])\n",
        "\n",
        " #horizontal stacking\n",
        "hstacked=np.hstack((a,b))\n",
        "print(\"horizontal stacked:\\n\",hstacked)"
      ],
      "metadata": {
        "colab": {
          "base_uri": "https://localhost:8080/"
        },
        "id": "XowXmbtNlFEb",
        "outputId": "76e4057b-c989-4fc7-82e2-f1b0baea1ec8"
      },
      "execution_count": null,
      "outputs": [
        {
          "output_type": "stream",
          "name": "stdout",
          "text": [
            "horizontal stacked:\n",
            " [1 2 3 4 5 6]\n"
          ]
        }
      ]
    },
    {
      "cell_type": "code",
      "source": [
        "#vertical stack\n",
        "vstacked=np.vstack((a,b))\n",
        "print(\"vertical stacked:\\n\",vstacked)"
      ],
      "metadata": {
        "colab": {
          "base_uri": "https://localhost:8080/"
        },
        "id": "kv0f7N1Gl4_T",
        "outputId": "1e3cee29-7bf9-4cda-935f-9b674bc5f2f6"
      },
      "execution_count": null,
      "outputs": [
        {
          "output_type": "stream",
          "name": "stdout",
          "text": [
            "vertical stacked:\n",
            " [[1 2 3]\n",
            " [4 5 6]]\n"
          ]
        }
      ]
    },
    {
      "cell_type": "code",
      "source": [
        "# column stacking(np.column_stack)\n",
        "# this method combines 1D arrays into a 2D array by treating each array as a column\n",
        "import numpy as np\n",
        "a=np.array([1,2,3])\n",
        "b=np.array([4,5,6])\n",
        "\n",
        "#column stacking\n",
        "cstacked=np.column_stack((a,b))\n",
        "print(\"column stacked:\\n\",cstacked)"
      ],
      "metadata": {
        "colab": {
          "base_uri": "https://localhost:8080/"
        },
        "id": "rbzLqxImmkIf",
        "outputId": "a26b2457-defd-463f-cd24-c33c9f77a84d"
      },
      "execution_count": null,
      "outputs": [
        {
          "output_type": "stream",
          "name": "stdout",
          "text": [
            "column stacked:\n",
            " [[1 4]\n",
            " [2 5]\n",
            " [3 6]]\n"
          ]
        }
      ]
    },
    {
      "cell_type": "code",
      "source": [
        "#np.split() - splits an array into multiple sub arrays along a specified axis\n",
        "\n"
      ],
      "metadata": {
        "id": "SgO3B4UOnYBv"
      },
      "execution_count": null,
      "outputs": []
    },
    {
      "cell_type": "markdown",
      "source": [
        "Horizontal splitting(np.hsplit) : splits an array along the horizontal axis(columns)"
      ],
      "metadata": {
        "id": "61xYJ817qR9c"
      }
    },
    {
      "cell_type": "markdown",
      "source": [
        "Vertical splitting(np.vsplit) - splits an array along the vertival axis(rows)"
      ],
      "metadata": {
        "id": "UUyu9bzfqh08"
      }
    },
    {
      "cell_type": "code",
      "source": [
        "#min and max\n",
        "import numpy as np\n",
        "data=np.array([3,5,6,7,8])\n",
        "min_value=np.min(data)\n",
        "max_value=np.max(data)\n",
        "print(\"min value:\",min_value)\n",
        "print(\"max value:\",max_value)"
      ],
      "metadata": {
        "colab": {
          "base_uri": "https://localhost:8080/"
        },
        "id": "TEY_oxRkqRZM",
        "outputId": "23d77ffb-efc0-444b-8e7c-38e7e1e7996a"
      },
      "execution_count": null,
      "outputs": [
        {
          "output_type": "stream",
          "name": "stdout",
          "text": [
            "min value: 3\n",
            "max value: 8\n"
          ]
        }
      ]
    },
    {
      "cell_type": "code",
      "source": [
        "#Mean - the mean(average) is the sum of all elements divided by the number of elements.\n",
        "\n",
        "mean_value=np.mean(data)\n",
        "print(\"mean value:\",mean_value)"
      ],
      "metadata": {
        "colab": {
          "base_uri": "https://localhost:8080/"
        },
        "id": "LkgGEULHrM72",
        "outputId": "8ed76fa1-adca-46f3-a007-03b7c3aa7445"
      },
      "execution_count": null,
      "outputs": [
        {
          "output_type": "stream",
          "name": "stdout",
          "text": [
            "mean value: 5.8\n"
          ]
        }
      ]
    },
    {
      "cell_type": "code",
      "source": [
        "#Median(np.median) - the median is the middle value of a dataset ,which seperates it into two equal halves .its less affected by outliers than the mean\n",
        "median_value=np.median(data)\n",
        "print(\"median value:\",median_value)"
      ],
      "metadata": {
        "colab": {
          "base_uri": "https://localhost:8080/"
        },
        "id": "8FOX2bIMrnlW",
        "outputId": "e9d68540-22fe-437b-b3a9-92c6acf8cebd"
      },
      "execution_count": null,
      "outputs": [
        {
          "output_type": "stream",
          "name": "stdout",
          "text": [
            "median value: 6.0\n"
          ]
        }
      ]
    },
    {
      "cell_type": "code",
      "source": [
        "#standard devaition(np.std)\n",
        "std_value=np.std(data)\n",
        "print(\"standard deviation:\",std_value)\n",
        "\n",
        "# variance\n",
        "variance_value=np.var(data)\n",
        "print(\"variance:\",variance_value)"
      ],
      "metadata": {
        "colab": {
          "base_uri": "https://localhost:8080/"
        },
        "id": "HaENV38nsL07",
        "outputId": "8ab68782-2261-452d-97ec-da63665a05fc"
      },
      "execution_count": null,
      "outputs": [
        {
          "output_type": "stream",
          "name": "stdout",
          "text": [
            "standard deviation: 1.7204650534085253\n",
            "variance: 2.96\n"
          ]
        }
      ]
    },
    {
      "cell_type": "code",
      "source": [
        "#percentile(np.percentile)\n",
        "\n",
        "import numpy as np\n",
        "data=np.array([1,2,3,5,6,7,8,9,10])\n",
        "percentile_25=np.percentile(data,25)\n",
        "percentile_50=np.percentile(data,50)\n",
        "percentile_75=np.percentile(data,75)\n",
        "print(\"25th percentile:\",percentile_25)\n",
        "print(\"50th percentile:\",percentile_50)\n",
        "print(\"75th percentile:\",percentile_75)"
      ],
      "metadata": {
        "colab": {
          "base_uri": "https://localhost:8080/"
        },
        "id": "MXZbs7XAtUiL",
        "outputId": "69aa6b10-3de5-49ee-b09d-a97a6e6bc2a8"
      },
      "execution_count": null,
      "outputs": [
        {
          "output_type": "stream",
          "name": "stdout",
          "text": [
            "25th percentile: 3.0\n",
            "50th percentile: 6.0\n",
            "75th percentile: 8.0\n"
          ]
        }
      ]
    },
    {
      "cell_type": "code",
      "source": [
        "#rand() - generating random numbers between 0 and 1\n",
        "# the np.random.rand() function generates random numbers from a uniform distribution between 0 and 1\n",
        "\n",
        "import numpy as np\n",
        "\n",
        "# generate a single random  float number\n",
        "random_number=np.random.rand()\n",
        "print(\"random number:\",random_number)\n",
        "\n",
        "# generates a 2x3 array of random numbers\n",
        "random_array=np.random.rand(2,3)\n",
        "print(\"random array:\\n\",random_array)\n"
      ],
      "metadata": {
        "colab": {
          "base_uri": "https://localhost:8080/"
        },
        "id": "mli01_xrt7-3",
        "outputId": "21d1a2ca-2a26-4505-a639-bcd55f007d56"
      },
      "execution_count": null,
      "outputs": [
        {
          "output_type": "stream",
          "name": "stdout",
          "text": [
            "random number: 0.5135325809410834\n",
            "random array:\n",
            " [[0.38119183 0.69151064 0.16031304]\n",
            " [0.66369997 0.06168993 0.19526616]]\n"
          ]
        }
      ]
    },
    {
      "cell_type": "code",
      "source": [
        "# randint() _ generating random integers\n",
        "#splits an array along the vertical axis(rows)\n",
        "\n",
        "import numpy as np\n",
        "\n",
        "# generate a single random number between 0 and 10\n",
        "random_integer=np.random.randint(0,10)\n",
        "print(\"random integer:\",random_integer)\n",
        "\n",
        "# generates a 2x3 array of random numbers between 1 and 100\n",
        "random_array=np.random.randint(1,100,(2,3))\n",
        "print(\"random array:\\n\",random_array)"
      ],
      "metadata": {
        "colab": {
          "base_uri": "https://localhost:8080/"
        },
        "id": "LXTpK-8RvDhB",
        "outputId": "574e6367-c401-4e26-e05b-9789b4c6e471"
      },
      "execution_count": null,
      "outputs": [
        {
          "output_type": "stream",
          "name": "stdout",
          "text": [
            "random integer: 2\n",
            "random array:\n",
            " [[80 70 63]\n",
            " [18 48 63]]\n"
          ]
        }
      ]
    },
    {
      "cell_type": "code",
      "source": [
        "# Identifying NaN values\n",
        "# the np.nan constant is used to denote missing values in arrays and np.isnan() helps detect these values\n",
        "\n",
        "import numpy as np\n",
        "\n",
        "# create an array with missing values represented as NaN\n",
        "data=np.array([1,2,np.nan,4,5,np.nan])\n",
        "\n",
        "#check for NaN values\n",
        "nan_mask=np.isnan(data)\n",
        "print(\"missing values:\",nan_mask) # true for missing values"
      ],
      "metadata": {
        "colab": {
          "base_uri": "https://localhost:8080/"
        },
        "id": "9t1BBnE9v3fQ",
        "outputId": "823f5749-96a3-452a-a7e0-214f46888fd7"
      },
      "execution_count": null,
      "outputs": [
        {
          "output_type": "stream",
          "name": "stdout",
          "text": [
            "missing values: [False False  True False False  True]\n"
          ]
        }
      ]
    },
    {
      "cell_type": "code",
      "source": [
        "#removing missing values\n",
        "\n",
        "import numpy as np\n",
        " # remove  NaN values from the array\n",
        "\n",
        "data=np.array([1,2,np.nan,4,5,np.nan])\n",
        "cleaned_data=data[~np.isnan(data)] # ~ is negation sign\n",
        "print(\"cleaned data:\",cleaned_data)"
      ],
      "metadata": {
        "colab": {
          "base_uri": "https://localhost:8080/"
        },
        "id": "nTPeNxz-wp-M",
        "outputId": "e08e787d-794e-44db-a51a-90186b2a91a2"
      },
      "execution_count": null,
      "outputs": [
        {
          "output_type": "stream",
          "name": "stdout",
          "text": [
            "cleaned data: [1. 2. 4. 5.]\n"
          ]
        }
      ]
    },
    {
      "cell_type": "code",
      "source": [
        "# Filling Missing values\n",
        "#replace missing values\n",
        "\n",
        "import numpy as np\n",
        "data=np.array([1,2,np.NaN,4,np.NaN,6])\n",
        "\n",
        "# calculate the mean of non-Nan values like 1,2,4,6\n",
        "mean_value=np.nanmean(data)\n",
        "\n",
        "#fill missing values with the mean\n",
        "filled_data=np.where(np.isnan(data),mean_value,data) # if and else if missing value is their fill with mean and if not their give (data) as it is\n",
        "print(\"filled data:\",filled_data)"
      ],
      "metadata": {
        "colab": {
          "base_uri": "https://localhost:8080/"
        },
        "id": "0HhJ-bWKAEqS",
        "outputId": "09228f9d-5169-4516-d65f-612b638bc0ce"
      },
      "execution_count": null,
      "outputs": [
        {
          "output_type": "stream",
          "name": "stdout",
          "text": [
            "filled data: [1.   2.   3.25 4.   3.25 6.  ]\n"
          ]
        }
      ]
    },
    {
      "cell_type": "markdown",
      "source": [
        "Pandas- gives access to two new data tpes Series, dataframe(digital table)\n"
      ],
      "metadata": {
        "id": "lbp-6OKbBS2m"
      }
    },
    {
      "cell_type": "code",
      "source": [
        "# a series is one dimensional array like a single column of data in a spreadsheet\n",
        "\n",
        "# one-dimensional,indexed,holds one data type\n",
        "\n",
        "import pandas as pd\n",
        "\n",
        "data=[10,20,30,40]\n",
        "series=pd.Series(data)\n",
        "print(\"series with default index:\\n\",series)"
      ],
      "metadata": {
        "id": "KQXuVbgwCDYR",
        "colab": {
          "base_uri": "https://localhost:8080/"
        },
        "outputId": "81f1e79b-8bd2-4137-c553-288c875c15ff"
      },
      "execution_count": null,
      "outputs": [
        {
          "output_type": "stream",
          "name": "stdout",
          "text": [
            "series with default index:\n",
            " 0    10\n",
            "1    20\n",
            "2    30\n",
            "3    40\n",
            "dtype: int64\n"
          ]
        }
      ]
    },
    {
      "cell_type": "code",
      "source": [
        "#Dataframe - a dataframe is a two-dimensional data structure like a table where data is organized in rows and columns\n",
        "\n",
        "#creating a dataframe from a dictionary\n",
        "\n",
        "data={\n",
        "    'name':['Alice','Bob','Charlie'],\n",
        "    'age':[25,30,35],\n",
        "    'city':['New York','San Francisco','Los Angeles']\n",
        "}\n",
        "\n",
        "df=pd.DataFrame(data)\n",
        "print(\"dataframe:\\n\",df)\n"
      ],
      "metadata": {
        "colab": {
          "base_uri": "https://localhost:8080/"
        },
        "id": "YxptHUofC77l",
        "outputId": "1c884c34-f353-49ee-ee68-e6e28eceec2b"
      },
      "execution_count": null,
      "outputs": [
        {
          "output_type": "stream",
          "name": "stdout",
          "text": [
            "dataframe:\n",
            "       name  age           city\n",
            "0    Alice   25       New York\n",
            "1      Bob   30  San Francisco\n",
            "2  Charlie   35    Los Angeles\n"
          ]
        }
      ]
    },
    {
      "cell_type": "markdown",
      "source": [
        "Creating dataframes from different sources\n",
        "\n",
        "\n",
        "*   csv file : df=pd.read_csv(\"file.csv\")\n",
        "\n",
        "*   Excel file : df=pd.read_excel(\"file.xlsx\")\n",
        "*   sql database : df=pd.read_sql(query,connection)\n",
        "\n",
        "\n",
        "   \n",
        "\n"
      ],
      "metadata": {
        "id": "7wsUVvKXD4lL"
      }
    },
    {
      "cell_type": "code",
      "source": [
        "#selecting operations in pandas\n",
        "# a.Assessing single and multiple columns\n",
        "\n",
        "data={\n",
        "    'name':['Alice','Bob','Charlie'],\n",
        "    'age':[25,30,35],\n",
        "    'city':['New York','San Francisco','Los Angeles']\n",
        "}\n",
        "\n",
        "df=pd.DataFrame(data)\n",
        "\n",
        "#selecting a single column\n",
        "print(df[\"name\"])\n",
        "#selecting multiple columns\n",
        "df[[\"name\",\"city\"]]"
      ],
      "metadata": {
        "colab": {
          "base_uri": "https://localhost:8080/",
          "height": 213
        },
        "id": "mlcCjJvUDvQK",
        "outputId": "eaa99c44-5a0b-436f-8fce-3c8bb46d2baa"
      },
      "execution_count": null,
      "outputs": [
        {
          "output_type": "stream",
          "name": "stdout",
          "text": [
            "0      Alice\n",
            "1        Bob\n",
            "2    Charlie\n",
            "Name: name, dtype: object\n"
          ]
        },
        {
          "output_type": "execute_result",
          "data": {
            "text/plain": [
              "      name           city\n",
              "0    Alice       New York\n",
              "1      Bob  San Francisco\n",
              "2  Charlie    Los Angeles"
            ],
            "text/html": [
              "\n",
              "  <div id=\"df-215e8e1c-11b2-40fe-8fd6-f762d45854af\" class=\"colab-df-container\">\n",
              "    <div>\n",
              "<style scoped>\n",
              "    .dataframe tbody tr th:only-of-type {\n",
              "        vertical-align: middle;\n",
              "    }\n",
              "\n",
              "    .dataframe tbody tr th {\n",
              "        vertical-align: top;\n",
              "    }\n",
              "\n",
              "    .dataframe thead th {\n",
              "        text-align: right;\n",
              "    }\n",
              "</style>\n",
              "<table border=\"1\" class=\"dataframe\">\n",
              "  <thead>\n",
              "    <tr style=\"text-align: right;\">\n",
              "      <th></th>\n",
              "      <th>name</th>\n",
              "      <th>city</th>\n",
              "    </tr>\n",
              "  </thead>\n",
              "  <tbody>\n",
              "    <tr>\n",
              "      <th>0</th>\n",
              "      <td>Alice</td>\n",
              "      <td>New York</td>\n",
              "    </tr>\n",
              "    <tr>\n",
              "      <th>1</th>\n",
              "      <td>Bob</td>\n",
              "      <td>San Francisco</td>\n",
              "    </tr>\n",
              "    <tr>\n",
              "      <th>2</th>\n",
              "      <td>Charlie</td>\n",
              "      <td>Los Angeles</td>\n",
              "    </tr>\n",
              "  </tbody>\n",
              "</table>\n",
              "</div>\n",
              "    <div class=\"colab-df-buttons\">\n",
              "\n",
              "  <div class=\"colab-df-container\">\n",
              "    <button class=\"colab-df-convert\" onclick=\"convertToInteractive('df-215e8e1c-11b2-40fe-8fd6-f762d45854af')\"\n",
              "            title=\"Convert this dataframe to an interactive table.\"\n",
              "            style=\"display:none;\">\n",
              "\n",
              "  <svg xmlns=\"http://www.w3.org/2000/svg\" height=\"24px\" viewBox=\"0 -960 960 960\">\n",
              "    <path d=\"M120-120v-720h720v720H120Zm60-500h600v-160H180v160Zm220 220h160v-160H400v160Zm0 220h160v-160H400v160ZM180-400h160v-160H180v160Zm440 0h160v-160H620v160ZM180-180h160v-160H180v160Zm440 0h160v-160H620v160Z\"/>\n",
              "  </svg>\n",
              "    </button>\n",
              "\n",
              "  <style>\n",
              "    .colab-df-container {\n",
              "      display:flex;\n",
              "      gap: 12px;\n",
              "    }\n",
              "\n",
              "    .colab-df-convert {\n",
              "      background-color: #E8F0FE;\n",
              "      border: none;\n",
              "      border-radius: 50%;\n",
              "      cursor: pointer;\n",
              "      display: none;\n",
              "      fill: #1967D2;\n",
              "      height: 32px;\n",
              "      padding: 0 0 0 0;\n",
              "      width: 32px;\n",
              "    }\n",
              "\n",
              "    .colab-df-convert:hover {\n",
              "      background-color: #E2EBFA;\n",
              "      box-shadow: 0px 1px 2px rgba(60, 64, 67, 0.3), 0px 1px 3px 1px rgba(60, 64, 67, 0.15);\n",
              "      fill: #174EA6;\n",
              "    }\n",
              "\n",
              "    .colab-df-buttons div {\n",
              "      margin-bottom: 4px;\n",
              "    }\n",
              "\n",
              "    [theme=dark] .colab-df-convert {\n",
              "      background-color: #3B4455;\n",
              "      fill: #D2E3FC;\n",
              "    }\n",
              "\n",
              "    [theme=dark] .colab-df-convert:hover {\n",
              "      background-color: #434B5C;\n",
              "      box-shadow: 0px 1px 3px 1px rgba(0, 0, 0, 0.15);\n",
              "      filter: drop-shadow(0px 1px 2px rgba(0, 0, 0, 0.3));\n",
              "      fill: #FFFFFF;\n",
              "    }\n",
              "  </style>\n",
              "\n",
              "    <script>\n",
              "      const buttonEl =\n",
              "        document.querySelector('#df-215e8e1c-11b2-40fe-8fd6-f762d45854af button.colab-df-convert');\n",
              "      buttonEl.style.display =\n",
              "        google.colab.kernel.accessAllowed ? 'block' : 'none';\n",
              "\n",
              "      async function convertToInteractive(key) {\n",
              "        const element = document.querySelector('#df-215e8e1c-11b2-40fe-8fd6-f762d45854af');\n",
              "        const dataTable =\n",
              "          await google.colab.kernel.invokeFunction('convertToInteractive',\n",
              "                                                    [key], {});\n",
              "        if (!dataTable) return;\n",
              "\n",
              "        const docLinkHtml = 'Like what you see? Visit the ' +\n",
              "          '<a target=\"_blank\" href=https://colab.research.google.com/notebooks/data_table.ipynb>data table notebook</a>'\n",
              "          + ' to learn more about interactive tables.';\n",
              "        element.innerHTML = '';\n",
              "        dataTable['output_type'] = 'display_data';\n",
              "        await google.colab.output.renderOutput(dataTable, element);\n",
              "        const docLink = document.createElement('div');\n",
              "        docLink.innerHTML = docLinkHtml;\n",
              "        element.appendChild(docLink);\n",
              "      }\n",
              "    </script>\n",
              "  </div>\n",
              "\n",
              "\n",
              "<div id=\"df-f7667fa8-aa6d-42a7-8b30-4c1aa81d36a9\">\n",
              "  <button class=\"colab-df-quickchart\" onclick=\"quickchart('df-f7667fa8-aa6d-42a7-8b30-4c1aa81d36a9')\"\n",
              "            title=\"Suggest charts\"\n",
              "            style=\"display:none;\">\n",
              "\n",
              "<svg xmlns=\"http://www.w3.org/2000/svg\" height=\"24px\"viewBox=\"0 0 24 24\"\n",
              "     width=\"24px\">\n",
              "    <g>\n",
              "        <path d=\"M19 3H5c-1.1 0-2 .9-2 2v14c0 1.1.9 2 2 2h14c1.1 0 2-.9 2-2V5c0-1.1-.9-2-2-2zM9 17H7v-7h2v7zm4 0h-2V7h2v10zm4 0h-2v-4h2v4z\"/>\n",
              "    </g>\n",
              "</svg>\n",
              "  </button>\n",
              "\n",
              "<style>\n",
              "  .colab-df-quickchart {\n",
              "      --bg-color: #E8F0FE;\n",
              "      --fill-color: #1967D2;\n",
              "      --hover-bg-color: #E2EBFA;\n",
              "      --hover-fill-color: #174EA6;\n",
              "      --disabled-fill-color: #AAA;\n",
              "      --disabled-bg-color: #DDD;\n",
              "  }\n",
              "\n",
              "  [theme=dark] .colab-df-quickchart {\n",
              "      --bg-color: #3B4455;\n",
              "      --fill-color: #D2E3FC;\n",
              "      --hover-bg-color: #434B5C;\n",
              "      --hover-fill-color: #FFFFFF;\n",
              "      --disabled-bg-color: #3B4455;\n",
              "      --disabled-fill-color: #666;\n",
              "  }\n",
              "\n",
              "  .colab-df-quickchart {\n",
              "    background-color: var(--bg-color);\n",
              "    border: none;\n",
              "    border-radius: 50%;\n",
              "    cursor: pointer;\n",
              "    display: none;\n",
              "    fill: var(--fill-color);\n",
              "    height: 32px;\n",
              "    padding: 0;\n",
              "    width: 32px;\n",
              "  }\n",
              "\n",
              "  .colab-df-quickchart:hover {\n",
              "    background-color: var(--hover-bg-color);\n",
              "    box-shadow: 0 1px 2px rgba(60, 64, 67, 0.3), 0 1px 3px 1px rgba(60, 64, 67, 0.15);\n",
              "    fill: var(--button-hover-fill-color);\n",
              "  }\n",
              "\n",
              "  .colab-df-quickchart-complete:disabled,\n",
              "  .colab-df-quickchart-complete:disabled:hover {\n",
              "    background-color: var(--disabled-bg-color);\n",
              "    fill: var(--disabled-fill-color);\n",
              "    box-shadow: none;\n",
              "  }\n",
              "\n",
              "  .colab-df-spinner {\n",
              "    border: 2px solid var(--fill-color);\n",
              "    border-color: transparent;\n",
              "    border-bottom-color: var(--fill-color);\n",
              "    animation:\n",
              "      spin 1s steps(1) infinite;\n",
              "  }\n",
              "\n",
              "  @keyframes spin {\n",
              "    0% {\n",
              "      border-color: transparent;\n",
              "      border-bottom-color: var(--fill-color);\n",
              "      border-left-color: var(--fill-color);\n",
              "    }\n",
              "    20% {\n",
              "      border-color: transparent;\n",
              "      border-left-color: var(--fill-color);\n",
              "      border-top-color: var(--fill-color);\n",
              "    }\n",
              "    30% {\n",
              "      border-color: transparent;\n",
              "      border-left-color: var(--fill-color);\n",
              "      border-top-color: var(--fill-color);\n",
              "      border-right-color: var(--fill-color);\n",
              "    }\n",
              "    40% {\n",
              "      border-color: transparent;\n",
              "      border-right-color: var(--fill-color);\n",
              "      border-top-color: var(--fill-color);\n",
              "    }\n",
              "    60% {\n",
              "      border-color: transparent;\n",
              "      border-right-color: var(--fill-color);\n",
              "    }\n",
              "    80% {\n",
              "      border-color: transparent;\n",
              "      border-right-color: var(--fill-color);\n",
              "      border-bottom-color: var(--fill-color);\n",
              "    }\n",
              "    90% {\n",
              "      border-color: transparent;\n",
              "      border-bottom-color: var(--fill-color);\n",
              "    }\n",
              "  }\n",
              "</style>\n",
              "\n",
              "  <script>\n",
              "    async function quickchart(key) {\n",
              "      const quickchartButtonEl =\n",
              "        document.querySelector('#' + key + ' button');\n",
              "      quickchartButtonEl.disabled = true;  // To prevent multiple clicks.\n",
              "      quickchartButtonEl.classList.add('colab-df-spinner');\n",
              "      try {\n",
              "        const charts = await google.colab.kernel.invokeFunction(\n",
              "            'suggestCharts', [key], {});\n",
              "      } catch (error) {\n",
              "        console.error('Error during call to suggestCharts:', error);\n",
              "      }\n",
              "      quickchartButtonEl.classList.remove('colab-df-spinner');\n",
              "      quickchartButtonEl.classList.add('colab-df-quickchart-complete');\n",
              "    }\n",
              "    (() => {\n",
              "      let quickchartButtonEl =\n",
              "        document.querySelector('#df-f7667fa8-aa6d-42a7-8b30-4c1aa81d36a9 button');\n",
              "      quickchartButtonEl.style.display =\n",
              "        google.colab.kernel.accessAllowed ? 'block' : 'none';\n",
              "    })();\n",
              "  </script>\n",
              "</div>\n",
              "\n",
              "    </div>\n",
              "  </div>\n"
            ],
            "application/vnd.google.colaboratory.intrinsic+json": {
              "type": "dataframe",
              "summary": "{\n  \"name\": \"df[[\\\"name\\\",\\\"city\\\"]]\",\n  \"rows\": 3,\n  \"fields\": [\n    {\n      \"column\": \"name\",\n      \"properties\": {\n        \"dtype\": \"string\",\n        \"num_unique_values\": 3,\n        \"samples\": [\n          \"Alice\",\n          \"Bob\",\n          \"Charlie\"\n        ],\n        \"semantic_type\": \"\",\n        \"description\": \"\"\n      }\n    },\n    {\n      \"column\": \"city\",\n      \"properties\": {\n        \"dtype\": \"string\",\n        \"num_unique_values\": 3,\n        \"samples\": [\n          \"New York\",\n          \"San Francisco\",\n          \"Los Angeles\"\n        ],\n        \"semantic_type\": \"\",\n        \"description\": \"\"\n      }\n    }\n  ]\n}"
            }
          },
          "metadata": {},
          "execution_count": 11
        }
      ]
    },
    {
      "cell_type": "code",
      "source": [
        "#Assessing rows using"
      ],
      "metadata": {
        "id": "0xIl193pE7Fp"
      },
      "execution_count": null,
      "outputs": []
    },
    {
      "cell_type": "markdown",
      "source": [
        "\n",
        "\n",
        "*   loc - used for indexing with column names and n-1 is not applicable\n",
        "*   iloc - used with indexing (numbers) and n-1 rule is applicable\n",
        "\n"
      ],
      "metadata": {
        "id": "dhWwrUi-IIDC"
      }
    },
    {
      "cell_type": "code",
      "source": [
        "data= {\n",
        "    'name':['Alice','Bob','Charlie'],\n",
        "    'age':[25,30,35],\n",
        "    'city':['New York','San Francisco','Los Angeles']\n",
        "}\n",
        "\n",
        "df=pd.DataFrame(data,index=['a','b','c'])\n",
        "\n",
        "print(\"row'a':\\n\",df.loc['a']) # row\n",
        "print(\"row'b':\\n\",df.iloc[0])\n",
        "print(\"city in row'a':\",df.at[\"a\",\"city\"])\n",
        "print(\"value at row 2 ,col 2 by position\",df.iat[1,1])\n"
      ],
      "metadata": {
        "colab": {
          "base_uri": "https://localhost:8080/"
        },
        "id": "WmBTU71CIHhW",
        "outputId": "8271d1e3-1730-4da9-83f5-d59e861fb6b6"
      },
      "execution_count": null,
      "outputs": [
        {
          "output_type": "stream",
          "name": "stdout",
          "text": [
            "row'a':\n",
            " name       Alice\n",
            "age           25\n",
            "city    New York\n",
            "Name: a, dtype: object\n",
            "row'b':\n",
            " name       Alice\n",
            "age           25\n",
            "city    New York\n",
            "Name: a, dtype: object\n",
            "city in row'a': New York\n",
            "value at row 2 ,col 2 by position 30\n"
          ]
        }
      ]
    },
    {
      "cell_type": "markdown",
      "source": [
        "![Screenshot 2025-02-20 075729.png](data:image/png;base64,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)![Screenshot 2025-02-20 075737.png](data:image/png;base64,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)![Screenshot 2025-02-20 075800.png](data:image/png;base64,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)![Screenshot 2025-02-20 075751.png](data:image/png;base64,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)![Screenshot 2025-02-20 075744.png](data:image/png;base64,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)![Screenshot 2025-02-20 075815.png](data:image/png;base64,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)"
      ],
      "metadata": {
        "id": "psD6SiQYM2L1"
      }
    },
    {
      "cell_type": "code",
      "source": [
        "df.loc['a':'b', 'name':'age']  # ✅ Sahi tarika\n"
      ],
      "metadata": {
        "colab": {
          "base_uri": "https://localhost:8080/",
          "height": 112
        },
        "id": "bTqLOosOI0iC",
        "outputId": "5487fa3b-77e1-4e27-8bc7-6bb15dfaf676"
      },
      "execution_count": null,
      "outputs": [
        {
          "output_type": "execute_result",
          "data": {
            "text/plain": [
              "    name  age\n",
              "a  Alice   25\n",
              "b    Bob   30"
            ],
            "text/html": [
              "\n",
              "  <div id=\"df-ffc4eea3-460d-42ad-9afe-008ffe44e829\" class=\"colab-df-container\">\n",
              "    <div>\n",
              "<style scoped>\n",
              "    .dataframe tbody tr th:only-of-type {\n",
              "        vertical-align: middle;\n",
              "    }\n",
              "\n",
              "    .dataframe tbody tr th {\n",
              "        vertical-align: top;\n",
              "    }\n",
              "\n",
              "    .dataframe thead th {\n",
              "        text-align: right;\n",
              "    }\n",
              "</style>\n",
              "<table border=\"1\" class=\"dataframe\">\n",
              "  <thead>\n",
              "    <tr style=\"text-align: right;\">\n",
              "      <th></th>\n",
              "      <th>name</th>\n",
              "      <th>age</th>\n",
              "    </tr>\n",
              "  </thead>\n",
              "  <tbody>\n",
              "    <tr>\n",
              "      <th>a</th>\n",
              "      <td>Alice</td>\n",
              "      <td>25</td>\n",
              "    </tr>\n",
              "    <tr>\n",
              "      <th>b</th>\n",
              "      <td>Bob</td>\n",
              "      <td>30</td>\n",
              "    </tr>\n",
              "  </tbody>\n",
              "</table>\n",
              "</div>\n",
              "    <div class=\"colab-df-buttons\">\n",
              "\n",
              "  <div class=\"colab-df-container\">\n",
              "    <button class=\"colab-df-convert\" onclick=\"convertToInteractive('df-ffc4eea3-460d-42ad-9afe-008ffe44e829')\"\n",
              "            title=\"Convert this dataframe to an interactive table.\"\n",
              "            style=\"display:none;\">\n",
              "\n",
              "  <svg xmlns=\"http://www.w3.org/2000/svg\" height=\"24px\" viewBox=\"0 -960 960 960\">\n",
              "    <path d=\"M120-120v-720h720v720H120Zm60-500h600v-160H180v160Zm220 220h160v-160H400v160Zm0 220h160v-160H400v160ZM180-400h160v-160H180v160Zm440 0h160v-160H620v160ZM180-180h160v-160H180v160Zm440 0h160v-160H620v160Z\"/>\n",
              "  </svg>\n",
              "    </button>\n",
              "\n",
              "  <style>\n",
              "    .colab-df-container {\n",
              "      display:flex;\n",
              "      gap: 12px;\n",
              "    }\n",
              "\n",
              "    .colab-df-convert {\n",
              "      background-color: #E8F0FE;\n",
              "      border: none;\n",
              "      border-radius: 50%;\n",
              "      cursor: pointer;\n",
              "      display: none;\n",
              "      fill: #1967D2;\n",
              "      height: 32px;\n",
              "      padding: 0 0 0 0;\n",
              "      width: 32px;\n",
              "    }\n",
              "\n",
              "    .colab-df-convert:hover {\n",
              "      background-color: #E2EBFA;\n",
              "      box-shadow: 0px 1px 2px rgba(60, 64, 67, 0.3), 0px 1px 3px 1px rgba(60, 64, 67, 0.15);\n",
              "      fill: #174EA6;\n",
              "    }\n",
              "\n",
              "    .colab-df-buttons div {\n",
              "      margin-bottom: 4px;\n",
              "    }\n",
              "\n",
              "    [theme=dark] .colab-df-convert {\n",
              "      background-color: #3B4455;\n",
              "      fill: #D2E3FC;\n",
              "    }\n",
              "\n",
              "    [theme=dark] .colab-df-convert:hover {\n",
              "      background-color: #434B5C;\n",
              "      box-shadow: 0px 1px 3px 1px rgba(0, 0, 0, 0.15);\n",
              "      filter: drop-shadow(0px 1px 2px rgba(0, 0, 0, 0.3));\n",
              "      fill: #FFFFFF;\n",
              "    }\n",
              "  </style>\n",
              "\n",
              "    <script>\n",
              "      const buttonEl =\n",
              "        document.querySelector('#df-ffc4eea3-460d-42ad-9afe-008ffe44e829 button.colab-df-convert');\n",
              "      buttonEl.style.display =\n",
              "        google.colab.kernel.accessAllowed ? 'block' : 'none';\n",
              "\n",
              "      async function convertToInteractive(key) {\n",
              "        const element = document.querySelector('#df-ffc4eea3-460d-42ad-9afe-008ffe44e829');\n",
              "        const dataTable =\n",
              "          await google.colab.kernel.invokeFunction('convertToInteractive',\n",
              "                                                    [key], {});\n",
              "        if (!dataTable) return;\n",
              "\n",
              "        const docLinkHtml = 'Like what you see? Visit the ' +\n",
              "          '<a target=\"_blank\" href=https://colab.research.google.com/notebooks/data_table.ipynb>data table notebook</a>'\n",
              "          + ' to learn more about interactive tables.';\n",
              "        element.innerHTML = '';\n",
              "        dataTable['output_type'] = 'display_data';\n",
              "        await google.colab.output.renderOutput(dataTable, element);\n",
              "        const docLink = document.createElement('div');\n",
              "        docLink.innerHTML = docLinkHtml;\n",
              "        element.appendChild(docLink);\n",
              "      }\n",
              "    </script>\n",
              "  </div>\n",
              "\n",
              "\n",
              "<div id=\"df-de940f95-f612-4fbe-9778-47f4bb6a1e83\">\n",
              "  <button class=\"colab-df-quickchart\" onclick=\"quickchart('df-de940f95-f612-4fbe-9778-47f4bb6a1e83')\"\n",
              "            title=\"Suggest charts\"\n",
              "            style=\"display:none;\">\n",
              "\n",
              "<svg xmlns=\"http://www.w3.org/2000/svg\" height=\"24px\"viewBox=\"0 0 24 24\"\n",
              "     width=\"24px\">\n",
              "    <g>\n",
              "        <path d=\"M19 3H5c-1.1 0-2 .9-2 2v14c0 1.1.9 2 2 2h14c1.1 0 2-.9 2-2V5c0-1.1-.9-2-2-2zM9 17H7v-7h2v7zm4 0h-2V7h2v10zm4 0h-2v-4h2v4z\"/>\n",
              "    </g>\n",
              "</svg>\n",
              "  </button>\n",
              "\n",
              "<style>\n",
              "  .colab-df-quickchart {\n",
              "      --bg-color: #E8F0FE;\n",
              "      --fill-color: #1967D2;\n",
              "      --hover-bg-color: #E2EBFA;\n",
              "      --hover-fill-color: #174EA6;\n",
              "      --disabled-fill-color: #AAA;\n",
              "      --disabled-bg-color: #DDD;\n",
              "  }\n",
              "\n",
              "  [theme=dark] .colab-df-quickchart {\n",
              "      --bg-color: #3B4455;\n",
              "      --fill-color: #D2E3FC;\n",
              "      --hover-bg-color: #434B5C;\n",
              "      --hover-fill-color: #FFFFFF;\n",
              "      --disabled-bg-color: #3B4455;\n",
              "      --disabled-fill-color: #666;\n",
              "  }\n",
              "\n",
              "  .colab-df-quickchart {\n",
              "    background-color: var(--bg-color);\n",
              "    border: none;\n",
              "    border-radius: 50%;\n",
              "    cursor: pointer;\n",
              "    display: none;\n",
              "    fill: var(--fill-color);\n",
              "    height: 32px;\n",
              "    padding: 0;\n",
              "    width: 32px;\n",
              "  }\n",
              "\n",
              "  .colab-df-quickchart:hover {\n",
              "    background-color: var(--hover-bg-color);\n",
              "    box-shadow: 0 1px 2px rgba(60, 64, 67, 0.3), 0 1px 3px 1px rgba(60, 64, 67, 0.15);\n",
              "    fill: var(--button-hover-fill-color);\n",
              "  }\n",
              "\n",
              "  .colab-df-quickchart-complete:disabled,\n",
              "  .colab-df-quickchart-complete:disabled:hover {\n",
              "    background-color: var(--disabled-bg-color);\n",
              "    fill: var(--disabled-fill-color);\n",
              "    box-shadow: none;\n",
              "  }\n",
              "\n",
              "  .colab-df-spinner {\n",
              "    border: 2px solid var(--fill-color);\n",
              "    border-color: transparent;\n",
              "    border-bottom-color: var(--fill-color);\n",
              "    animation:\n",
              "      spin 1s steps(1) infinite;\n",
              "  }\n",
              "\n",
              "  @keyframes spin {\n",
              "    0% {\n",
              "      border-color: transparent;\n",
              "      border-bottom-color: var(--fill-color);\n",
              "      border-left-color: var(--fill-color);\n",
              "    }\n",
              "    20% {\n",
              "      border-color: transparent;\n",
              "      border-left-color: var(--fill-color);\n",
              "      border-top-color: var(--fill-color);\n",
              "    }\n",
              "    30% {\n",
              "      border-color: transparent;\n",
              "      border-left-color: var(--fill-color);\n",
              "      border-top-color: var(--fill-color);\n",
              "      border-right-color: var(--fill-color);\n",
              "    }\n",
              "    40% {\n",
              "      border-color: transparent;\n",
              "      border-right-color: var(--fill-color);\n",
              "      border-top-color: var(--fill-color);\n",
              "    }\n",
              "    60% {\n",
              "      border-color: transparent;\n",
              "      border-right-color: var(--fill-color);\n",
              "    }\n",
              "    80% {\n",
              "      border-color: transparent;\n",
              "      border-right-color: var(--fill-color);\n",
              "      border-bottom-color: var(--fill-color);\n",
              "    }\n",
              "    90% {\n",
              "      border-color: transparent;\n",
              "      border-bottom-color: var(--fill-color);\n",
              "    }\n",
              "  }\n",
              "</style>\n",
              "\n",
              "  <script>\n",
              "    async function quickchart(key) {\n",
              "      const quickchartButtonEl =\n",
              "        document.querySelector('#' + key + ' button');\n",
              "      quickchartButtonEl.disabled = true;  // To prevent multiple clicks.\n",
              "      quickchartButtonEl.classList.add('colab-df-spinner');\n",
              "      try {\n",
              "        const charts = await google.colab.kernel.invokeFunction(\n",
              "            'suggestCharts', [key], {});\n",
              "      } catch (error) {\n",
              "        console.error('Error during call to suggestCharts:', error);\n",
              "      }\n",
              "      quickchartButtonEl.classList.remove('colab-df-spinner');\n",
              "      quickchartButtonEl.classList.add('colab-df-quickchart-complete');\n",
              "    }\n",
              "    (() => {\n",
              "      let quickchartButtonEl =\n",
              "        document.querySelector('#df-de940f95-f612-4fbe-9778-47f4bb6a1e83 button');\n",
              "      quickchartButtonEl.style.display =\n",
              "        google.colab.kernel.accessAllowed ? 'block' : 'none';\n",
              "    })();\n",
              "  </script>\n",
              "</div>\n",
              "\n",
              "    </div>\n",
              "  </div>\n"
            ],
            "application/vnd.google.colaboratory.intrinsic+json": {
              "type": "dataframe",
              "summary": "{\n  \"name\": \"df\",\n  \"rows\": 2,\n  \"fields\": [\n    {\n      \"column\": \"name\",\n      \"properties\": {\n        \"dtype\": \"string\",\n        \"num_unique_values\": 2,\n        \"samples\": [\n          \"Bob\",\n          \"Alice\"\n        ],\n        \"semantic_type\": \"\",\n        \"description\": \"\"\n      }\n    },\n    {\n      \"column\": \"age\",\n      \"properties\": {\n        \"dtype\": \"number\",\n        \"std\": 3,\n        \"min\": 25,\n        \"max\": 30,\n        \"num_unique_values\": 2,\n        \"samples\": [\n          30,\n          25\n        ],\n        \"semantic_type\": \"\",\n        \"description\": \"\"\n      }\n    }\n  ]\n}"
            }
          },
          "metadata": {},
          "execution_count": 17
        }
      ]
    },
    {
      "cell_type": "code",
      "source": [
        "df.loc[0:1,'name':'age']#only names (label based),the 0:1 it accepts becoz it is having default index and no custom labels like a,b,c allowed"
      ],
      "metadata": {
        "colab": {
          "base_uri": "https://localhost:8080/",
          "height": 112
        },
        "id": "WrL5gAlKbH2c",
        "outputId": "17b88f1a-f106-4a4a-f5ec-5626d2deea3a"
      },
      "execution_count": null,
      "outputs": [
        {
          "output_type": "execute_result",
          "data": {
            "text/plain": [
              "    name  age\n",
              "0  Alice   25\n",
              "1    Bob   30"
            ],
            "text/html": [
              "\n",
              "  <div id=\"df-c6e1f922-2376-4f7a-9cd2-c08340817e97\" class=\"colab-df-container\">\n",
              "    <div>\n",
              "<style scoped>\n",
              "    .dataframe tbody tr th:only-of-type {\n",
              "        vertical-align: middle;\n",
              "    }\n",
              "\n",
              "    .dataframe tbody tr th {\n",
              "        vertical-align: top;\n",
              "    }\n",
              "\n",
              "    .dataframe thead th {\n",
              "        text-align: right;\n",
              "    }\n",
              "</style>\n",
              "<table border=\"1\" class=\"dataframe\">\n",
              "  <thead>\n",
              "    <tr style=\"text-align: right;\">\n",
              "      <th></th>\n",
              "      <th>name</th>\n",
              "      <th>age</th>\n",
              "    </tr>\n",
              "  </thead>\n",
              "  <tbody>\n",
              "    <tr>\n",
              "      <th>0</th>\n",
              "      <td>Alice</td>\n",
              "      <td>25</td>\n",
              "    </tr>\n",
              "    <tr>\n",
              "      <th>1</th>\n",
              "      <td>Bob</td>\n",
              "      <td>30</td>\n",
              "    </tr>\n",
              "  </tbody>\n",
              "</table>\n",
              "</div>\n",
              "    <div class=\"colab-df-buttons\">\n",
              "\n",
              "  <div class=\"colab-df-container\">\n",
              "    <button class=\"colab-df-convert\" onclick=\"convertToInteractive('df-c6e1f922-2376-4f7a-9cd2-c08340817e97')\"\n",
              "            title=\"Convert this dataframe to an interactive table.\"\n",
              "            style=\"display:none;\">\n",
              "\n",
              "  <svg xmlns=\"http://www.w3.org/2000/svg\" height=\"24px\" viewBox=\"0 -960 960 960\">\n",
              "    <path d=\"M120-120v-720h720v720H120Zm60-500h600v-160H180v160Zm220 220h160v-160H400v160Zm0 220h160v-160H400v160ZM180-400h160v-160H180v160Zm440 0h160v-160H620v160ZM180-180h160v-160H180v160Zm440 0h160v-160H620v160Z\"/>\n",
              "  </svg>\n",
              "    </button>\n",
              "\n",
              "  <style>\n",
              "    .colab-df-container {\n",
              "      display:flex;\n",
              "      gap: 12px;\n",
              "    }\n",
              "\n",
              "    .colab-df-convert {\n",
              "      background-color: #E8F0FE;\n",
              "      border: none;\n",
              "      border-radius: 50%;\n",
              "      cursor: pointer;\n",
              "      display: none;\n",
              "      fill: #1967D2;\n",
              "      height: 32px;\n",
              "      padding: 0 0 0 0;\n",
              "      width: 32px;\n",
              "    }\n",
              "\n",
              "    .colab-df-convert:hover {\n",
              "      background-color: #E2EBFA;\n",
              "      box-shadow: 0px 1px 2px rgba(60, 64, 67, 0.3), 0px 1px 3px 1px rgba(60, 64, 67, 0.15);\n",
              "      fill: #174EA6;\n",
              "    }\n",
              "\n",
              "    .colab-df-buttons div {\n",
              "      margin-bottom: 4px;\n",
              "    }\n",
              "\n",
              "    [theme=dark] .colab-df-convert {\n",
              "      background-color: #3B4455;\n",
              "      fill: #D2E3FC;\n",
              "    }\n",
              "\n",
              "    [theme=dark] .colab-df-convert:hover {\n",
              "      background-color: #434B5C;\n",
              "      box-shadow: 0px 1px 3px 1px rgba(0, 0, 0, 0.15);\n",
              "      filter: drop-shadow(0px 1px 2px rgba(0, 0, 0, 0.3));\n",
              "      fill: #FFFFFF;\n",
              "    }\n",
              "  </style>\n",
              "\n",
              "    <script>\n",
              "      const buttonEl =\n",
              "        document.querySelector('#df-c6e1f922-2376-4f7a-9cd2-c08340817e97 button.colab-df-convert');\n",
              "      buttonEl.style.display =\n",
              "        google.colab.kernel.accessAllowed ? 'block' : 'none';\n",
              "\n",
              "      async function convertToInteractive(key) {\n",
              "        const element = document.querySelector('#df-c6e1f922-2376-4f7a-9cd2-c08340817e97');\n",
              "        const dataTable =\n",
              "          await google.colab.kernel.invokeFunction('convertToInteractive',\n",
              "                                                    [key], {});\n",
              "        if (!dataTable) return;\n",
              "\n",
              "        const docLinkHtml = 'Like what you see? Visit the ' +\n",
              "          '<a target=\"_blank\" href=https://colab.research.google.com/notebooks/data_table.ipynb>data table notebook</a>'\n",
              "          + ' to learn more about interactive tables.';\n",
              "        element.innerHTML = '';\n",
              "        dataTable['output_type'] = 'display_data';\n",
              "        await google.colab.output.renderOutput(dataTable, element);\n",
              "        const docLink = document.createElement('div');\n",
              "        docLink.innerHTML = docLinkHtml;\n",
              "        element.appendChild(docLink);\n",
              "      }\n",
              "    </script>\n",
              "  </div>\n",
              "\n",
              "\n",
              "<div id=\"df-aa07fcba-6491-4887-aed2-85bd31314a99\">\n",
              "  <button class=\"colab-df-quickchart\" onclick=\"quickchart('df-aa07fcba-6491-4887-aed2-85bd31314a99')\"\n",
              "            title=\"Suggest charts\"\n",
              "            style=\"display:none;\">\n",
              "\n",
              "<svg xmlns=\"http://www.w3.org/2000/svg\" height=\"24px\"viewBox=\"0 0 24 24\"\n",
              "     width=\"24px\">\n",
              "    <g>\n",
              "        <path d=\"M19 3H5c-1.1 0-2 .9-2 2v14c0 1.1.9 2 2 2h14c1.1 0 2-.9 2-2V5c0-1.1-.9-2-2-2zM9 17H7v-7h2v7zm4 0h-2V7h2v10zm4 0h-2v-4h2v4z\"/>\n",
              "    </g>\n",
              "</svg>\n",
              "  </button>\n",
              "\n",
              "<style>\n",
              "  .colab-df-quickchart {\n",
              "      --bg-color: #E8F0FE;\n",
              "      --fill-color: #1967D2;\n",
              "      --hover-bg-color: #E2EBFA;\n",
              "      --hover-fill-color: #174EA6;\n",
              "      --disabled-fill-color: #AAA;\n",
              "      --disabled-bg-color: #DDD;\n",
              "  }\n",
              "\n",
              "  [theme=dark] .colab-df-quickchart {\n",
              "      --bg-color: #3B4455;\n",
              "      --fill-color: #D2E3FC;\n",
              "      --hover-bg-color: #434B5C;\n",
              "      --hover-fill-color: #FFFFFF;\n",
              "      --disabled-bg-color: #3B4455;\n",
              "      --disabled-fill-color: #666;\n",
              "  }\n",
              "\n",
              "  .colab-df-quickchart {\n",
              "    background-color: var(--bg-color);\n",
              "    border: none;\n",
              "    border-radius: 50%;\n",
              "    cursor: pointer;\n",
              "    display: none;\n",
              "    fill: var(--fill-color);\n",
              "    height: 32px;\n",
              "    padding: 0;\n",
              "    width: 32px;\n",
              "  }\n",
              "\n",
              "  .colab-df-quickchart:hover {\n",
              "    background-color: var(--hover-bg-color);\n",
              "    box-shadow: 0 1px 2px rgba(60, 64, 67, 0.3), 0 1px 3px 1px rgba(60, 64, 67, 0.15);\n",
              "    fill: var(--button-hover-fill-color);\n",
              "  }\n",
              "\n",
              "  .colab-df-quickchart-complete:disabled,\n",
              "  .colab-df-quickchart-complete:disabled:hover {\n",
              "    background-color: var(--disabled-bg-color);\n",
              "    fill: var(--disabled-fill-color);\n",
              "    box-shadow: none;\n",
              "  }\n",
              "\n",
              "  .colab-df-spinner {\n",
              "    border: 2px solid var(--fill-color);\n",
              "    border-color: transparent;\n",
              "    border-bottom-color: var(--fill-color);\n",
              "    animation:\n",
              "      spin 1s steps(1) infinite;\n",
              "  }\n",
              "\n",
              "  @keyframes spin {\n",
              "    0% {\n",
              "      border-color: transparent;\n",
              "      border-bottom-color: var(--fill-color);\n",
              "      border-left-color: var(--fill-color);\n",
              "    }\n",
              "    20% {\n",
              "      border-color: transparent;\n",
              "      border-left-color: var(--fill-color);\n",
              "      border-top-color: var(--fill-color);\n",
              "    }\n",
              "    30% {\n",
              "      border-color: transparent;\n",
              "      border-left-color: var(--fill-color);\n",
              "      border-top-color: var(--fill-color);\n",
              "      border-right-color: var(--fill-color);\n",
              "    }\n",
              "    40% {\n",
              "      border-color: transparent;\n",
              "      border-right-color: var(--fill-color);\n",
              "      border-top-color: var(--fill-color);\n",
              "    }\n",
              "    60% {\n",
              "      border-color: transparent;\n",
              "      border-right-color: var(--fill-color);\n",
              "    }\n",
              "    80% {\n",
              "      border-color: transparent;\n",
              "      border-right-color: var(--fill-color);\n",
              "      border-bottom-color: var(--fill-color);\n",
              "    }\n",
              "    90% {\n",
              "      border-color: transparent;\n",
              "      border-bottom-color: var(--fill-color);\n",
              "    }\n",
              "  }\n",
              "</style>\n",
              "\n",
              "  <script>\n",
              "    async function quickchart(key) {\n",
              "      const quickchartButtonEl =\n",
              "        document.querySelector('#' + key + ' button');\n",
              "      quickchartButtonEl.disabled = true;  // To prevent multiple clicks.\n",
              "      quickchartButtonEl.classList.add('colab-df-spinner');\n",
              "      try {\n",
              "        const charts = await google.colab.kernel.invokeFunction(\n",
              "            'suggestCharts', [key], {});\n",
              "      } catch (error) {\n",
              "        console.error('Error during call to suggestCharts:', error);\n",
              "      }\n",
              "      quickchartButtonEl.classList.remove('colab-df-spinner');\n",
              "      quickchartButtonEl.classList.add('colab-df-quickchart-complete');\n",
              "    }\n",
              "    (() => {\n",
              "      let quickchartButtonEl =\n",
              "        document.querySelector('#df-aa07fcba-6491-4887-aed2-85bd31314a99 button');\n",
              "      quickchartButtonEl.style.display =\n",
              "        google.colab.kernel.accessAllowed ? 'block' : 'none';\n",
              "    })();\n",
              "  </script>\n",
              "</div>\n",
              "\n",
              "    </div>\n",
              "  </div>\n"
            ],
            "application/vnd.google.colaboratory.intrinsic+json": {
              "type": "dataframe",
              "summary": "{\n  \"name\": \"df\",\n  \"rows\": 2,\n  \"fields\": [\n    {\n      \"column\": \"name\",\n      \"properties\": {\n        \"dtype\": \"string\",\n        \"num_unique_values\": 2,\n        \"samples\": [\n          \"Bob\",\n          \"Alice\"\n        ],\n        \"semantic_type\": \"\",\n        \"description\": \"\"\n      }\n    },\n    {\n      \"column\": \"age\",\n      \"properties\": {\n        \"dtype\": \"number\",\n        \"std\": 3,\n        \"min\": 25,\n        \"max\": 30,\n        \"num_unique_values\": 2,\n        \"samples\": [\n          30,\n          25\n        ],\n        \"semantic_type\": \"\",\n        \"description\": \"\"\n      }\n    }\n  ]\n}"
            }
          },
          "metadata": {},
          "execution_count": 74
        }
      ]
    },
    {
      "cell_type": "markdown",
      "source": [
        "![Screenshot 2025-02-20 080625.png](data:image/png;base64,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)"
      ],
      "metadata": {
        "id": "qjGIJsIaN_Rx"
      }
    },
    {
      "cell_type": "markdown",
      "source": [
        "![Screenshot 2025-02-20 080634.png](data:image/png;base64,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)![Screenshot 2025-02-20 080640.png](data:image/png;base64,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)"
      ],
      "metadata": {
        "id": "yBTkpqaaOFnO"
      }
    },
    {
      "cell_type": "code",
      "source": [
        "#Filtering operations in pandas\n",
        "\n",
        "data= {\n",
        "    'name':['Alice','Bob','Charlie','david','eva'],\n",
        "    'age':[24,30,35,22,28],\n",
        "    'salary':[50000,540000,610000,450000,52000]\n",
        "\n",
        "}\n",
        "\n",
        "df=pd.DataFrame(data)\n",
        "\n",
        "df_age_above_30=df[df['age']>30]\n",
        "print(df_age_above_30)"
      ],
      "metadata": {
        "colab": {
          "base_uri": "https://localhost:8080/"
        },
        "id": "qVE179cxM0AY",
        "outputId": "70d61820-7ccc-48c8-a362-cae410c17010"
      },
      "execution_count": null,
      "outputs": [
        {
          "output_type": "stream",
          "name": "stdout",
          "text": [
            "      name  age  salary\n",
            "2  Charlie   35  610000\n"
          ]
        }
      ]
    },
    {
      "cell_type": "code",
      "source": [
        "#Modifying data in pandas\n",
        "data= {\n",
        "    'name':['Alice','Bob','Charlie'],\n",
        "    'age':[25,30,35],\n",
        "    'city':['New York','San Francisco','Los Angeles']\n",
        "}\n",
        "df=pd.DataFrame(data)\n",
        "df[\"discount\"]=df[\"age\"]*2 # adding a new column\n",
        "print(df)"
      ],
      "metadata": {
        "colab": {
          "base_uri": "https://localhost:8080/"
        },
        "id": "RIHZoplLPchz",
        "outputId": "490e6d95-5d8a-47eb-adc0-d257536bf22a"
      },
      "execution_count": null,
      "outputs": [
        {
          "output_type": "stream",
          "name": "stdout",
          "text": [
            "      name  age           city  discount\n",
            "0    Alice   25       New York        50\n",
            "1      Bob   30  San Francisco        60\n",
            "2  Charlie   35    Los Angeles        70\n"
          ]
        }
      ]
    },
    {
      "cell_type": "code",
      "source": [
        "#Handling missing values\n",
        "import numpy as np\n",
        "data= {\n",
        "    'name':['Alice','Bob',np.nan],\n",
        "    'age':[25,30,35],\n",
        "    'city':['New York',np.nan,'Los Angeles']\n",
        "}\n",
        "df=pd.DataFrame(data)\n",
        "df.isna()"
      ],
      "metadata": {
        "colab": {
          "base_uri": "https://localhost:8080/",
          "height": 143
        },
        "id": "v-MgRI3TPw88",
        "outputId": "08c8b082-2047-4b2d-b644-2dbfae9421d0"
      },
      "execution_count": null,
      "outputs": [
        {
          "output_type": "execute_result",
          "data": {
            "text/plain": [
              "    name    age   city\n",
              "0  False  False  False\n",
              "1  False  False   True\n",
              "2   True  False  False"
            ],
            "text/html": [
              "\n",
              "  <div id=\"df-b8784c3d-885b-42c8-8791-f799dfcfae5f\" class=\"colab-df-container\">\n",
              "    <div>\n",
              "<style scoped>\n",
              "    .dataframe tbody tr th:only-of-type {\n",
              "        vertical-align: middle;\n",
              "    }\n",
              "\n",
              "    .dataframe tbody tr th {\n",
              "        vertical-align: top;\n",
              "    }\n",
              "\n",
              "    .dataframe thead th {\n",
              "        text-align: right;\n",
              "    }\n",
              "</style>\n",
              "<table border=\"1\" class=\"dataframe\">\n",
              "  <thead>\n",
              "    <tr style=\"text-align: right;\">\n",
              "      <th></th>\n",
              "      <th>name</th>\n",
              "      <th>age</th>\n",
              "      <th>city</th>\n",
              "    </tr>\n",
              "  </thead>\n",
              "  <tbody>\n",
              "    <tr>\n",
              "      <th>0</th>\n",
              "      <td>False</td>\n",
              "      <td>False</td>\n",
              "      <td>False</td>\n",
              "    </tr>\n",
              "    <tr>\n",
              "      <th>1</th>\n",
              "      <td>False</td>\n",
              "      <td>False</td>\n",
              "      <td>True</td>\n",
              "    </tr>\n",
              "    <tr>\n",
              "      <th>2</th>\n",
              "      <td>True</td>\n",
              "      <td>False</td>\n",
              "      <td>False</td>\n",
              "    </tr>\n",
              "  </tbody>\n",
              "</table>\n",
              "</div>\n",
              "    <div class=\"colab-df-buttons\">\n",
              "\n",
              "  <div class=\"colab-df-container\">\n",
              "    <button class=\"colab-df-convert\" onclick=\"convertToInteractive('df-b8784c3d-885b-42c8-8791-f799dfcfae5f')\"\n",
              "            title=\"Convert this dataframe to an interactive table.\"\n",
              "            style=\"display:none;\">\n",
              "\n",
              "  <svg xmlns=\"http://www.w3.org/2000/svg\" height=\"24px\" viewBox=\"0 -960 960 960\">\n",
              "    <path d=\"M120-120v-720h720v720H120Zm60-500h600v-160H180v160Zm220 220h160v-160H400v160Zm0 220h160v-160H400v160ZM180-400h160v-160H180v160Zm440 0h160v-160H620v160ZM180-180h160v-160H180v160Zm440 0h160v-160H620v160Z\"/>\n",
              "  </svg>\n",
              "    </button>\n",
              "\n",
              "  <style>\n",
              "    .colab-df-container {\n",
              "      display:flex;\n",
              "      gap: 12px;\n",
              "    }\n",
              "\n",
              "    .colab-df-convert {\n",
              "      background-color: #E8F0FE;\n",
              "      border: none;\n",
              "      border-radius: 50%;\n",
              "      cursor: pointer;\n",
              "      display: none;\n",
              "      fill: #1967D2;\n",
              "      height: 32px;\n",
              "      padding: 0 0 0 0;\n",
              "      width: 32px;\n",
              "    }\n",
              "\n",
              "    .colab-df-convert:hover {\n",
              "      background-color: #E2EBFA;\n",
              "      box-shadow: 0px 1px 2px rgba(60, 64, 67, 0.3), 0px 1px 3px 1px rgba(60, 64, 67, 0.15);\n",
              "      fill: #174EA6;\n",
              "    }\n",
              "\n",
              "    .colab-df-buttons div {\n",
              "      margin-bottom: 4px;\n",
              "    }\n",
              "\n",
              "    [theme=dark] .colab-df-convert {\n",
              "      background-color: #3B4455;\n",
              "      fill: #D2E3FC;\n",
              "    }\n",
              "\n",
              "    [theme=dark] .colab-df-convert:hover {\n",
              "      background-color: #434B5C;\n",
              "      box-shadow: 0px 1px 3px 1px rgba(0, 0, 0, 0.15);\n",
              "      filter: drop-shadow(0px 1px 2px rgba(0, 0, 0, 0.3));\n",
              "      fill: #FFFFFF;\n",
              "    }\n",
              "  </style>\n",
              "\n",
              "    <script>\n",
              "      const buttonEl =\n",
              "        document.querySelector('#df-b8784c3d-885b-42c8-8791-f799dfcfae5f button.colab-df-convert');\n",
              "      buttonEl.style.display =\n",
              "        google.colab.kernel.accessAllowed ? 'block' : 'none';\n",
              "\n",
              "      async function convertToInteractive(key) {\n",
              "        const element = document.querySelector('#df-b8784c3d-885b-42c8-8791-f799dfcfae5f');\n",
              "        const dataTable =\n",
              "          await google.colab.kernel.invokeFunction('convertToInteractive',\n",
              "                                                    [key], {});\n",
              "        if (!dataTable) return;\n",
              "\n",
              "        const docLinkHtml = 'Like what you see? Visit the ' +\n",
              "          '<a target=\"_blank\" href=https://colab.research.google.com/notebooks/data_table.ipynb>data table notebook</a>'\n",
              "          + ' to learn more about interactive tables.';\n",
              "        element.innerHTML = '';\n",
              "        dataTable['output_type'] = 'display_data';\n",
              "        await google.colab.output.renderOutput(dataTable, element);\n",
              "        const docLink = document.createElement('div');\n",
              "        docLink.innerHTML = docLinkHtml;\n",
              "        element.appendChild(docLink);\n",
              "      }\n",
              "    </script>\n",
              "  </div>\n",
              "\n",
              "\n",
              "<div id=\"df-a91dda31-b78f-4f01-9056-fc53674dac84\">\n",
              "  <button class=\"colab-df-quickchart\" onclick=\"quickchart('df-a91dda31-b78f-4f01-9056-fc53674dac84')\"\n",
              "            title=\"Suggest charts\"\n",
              "            style=\"display:none;\">\n",
              "\n",
              "<svg xmlns=\"http://www.w3.org/2000/svg\" height=\"24px\"viewBox=\"0 0 24 24\"\n",
              "     width=\"24px\">\n",
              "    <g>\n",
              "        <path d=\"M19 3H5c-1.1 0-2 .9-2 2v14c0 1.1.9 2 2 2h14c1.1 0 2-.9 2-2V5c0-1.1-.9-2-2-2zM9 17H7v-7h2v7zm4 0h-2V7h2v10zm4 0h-2v-4h2v4z\"/>\n",
              "    </g>\n",
              "</svg>\n",
              "  </button>\n",
              "\n",
              "<style>\n",
              "  .colab-df-quickchart {\n",
              "      --bg-color: #E8F0FE;\n",
              "      --fill-color: #1967D2;\n",
              "      --hover-bg-color: #E2EBFA;\n",
              "      --hover-fill-color: #174EA6;\n",
              "      --disabled-fill-color: #AAA;\n",
              "      --disabled-bg-color: #DDD;\n",
              "  }\n",
              "\n",
              "  [theme=dark] .colab-df-quickchart {\n",
              "      --bg-color: #3B4455;\n",
              "      --fill-color: #D2E3FC;\n",
              "      --hover-bg-color: #434B5C;\n",
              "      --hover-fill-color: #FFFFFF;\n",
              "      --disabled-bg-color: #3B4455;\n",
              "      --disabled-fill-color: #666;\n",
              "  }\n",
              "\n",
              "  .colab-df-quickchart {\n",
              "    background-color: var(--bg-color);\n",
              "    border: none;\n",
              "    border-radius: 50%;\n",
              "    cursor: pointer;\n",
              "    display: none;\n",
              "    fill: var(--fill-color);\n",
              "    height: 32px;\n",
              "    padding: 0;\n",
              "    width: 32px;\n",
              "  }\n",
              "\n",
              "  .colab-df-quickchart:hover {\n",
              "    background-color: var(--hover-bg-color);\n",
              "    box-shadow: 0 1px 2px rgba(60, 64, 67, 0.3), 0 1px 3px 1px rgba(60, 64, 67, 0.15);\n",
              "    fill: var(--button-hover-fill-color);\n",
              "  }\n",
              "\n",
              "  .colab-df-quickchart-complete:disabled,\n",
              "  .colab-df-quickchart-complete:disabled:hover {\n",
              "    background-color: var(--disabled-bg-color);\n",
              "    fill: var(--disabled-fill-color);\n",
              "    box-shadow: none;\n",
              "  }\n",
              "\n",
              "  .colab-df-spinner {\n",
              "    border: 2px solid var(--fill-color);\n",
              "    border-color: transparent;\n",
              "    border-bottom-color: var(--fill-color);\n",
              "    animation:\n",
              "      spin 1s steps(1) infinite;\n",
              "  }\n",
              "\n",
              "  @keyframes spin {\n",
              "    0% {\n",
              "      border-color: transparent;\n",
              "      border-bottom-color: var(--fill-color);\n",
              "      border-left-color: var(--fill-color);\n",
              "    }\n",
              "    20% {\n",
              "      border-color: transparent;\n",
              "      border-left-color: var(--fill-color);\n",
              "      border-top-color: var(--fill-color);\n",
              "    }\n",
              "    30% {\n",
              "      border-color: transparent;\n",
              "      border-left-color: var(--fill-color);\n",
              "      border-top-color: var(--fill-color);\n",
              "      border-right-color: var(--fill-color);\n",
              "    }\n",
              "    40% {\n",
              "      border-color: transparent;\n",
              "      border-right-color: var(--fill-color);\n",
              "      border-top-color: var(--fill-color);\n",
              "    }\n",
              "    60% {\n",
              "      border-color: transparent;\n",
              "      border-right-color: var(--fill-color);\n",
              "    }\n",
              "    80% {\n",
              "      border-color: transparent;\n",
              "      border-right-color: var(--fill-color);\n",
              "      border-bottom-color: var(--fill-color);\n",
              "    }\n",
              "    90% {\n",
              "      border-color: transparent;\n",
              "      border-bottom-color: var(--fill-color);\n",
              "    }\n",
              "  }\n",
              "</style>\n",
              "\n",
              "  <script>\n",
              "    async function quickchart(key) {\n",
              "      const quickchartButtonEl =\n",
              "        document.querySelector('#' + key + ' button');\n",
              "      quickchartButtonEl.disabled = true;  // To prevent multiple clicks.\n",
              "      quickchartButtonEl.classList.add('colab-df-spinner');\n",
              "      try {\n",
              "        const charts = await google.colab.kernel.invokeFunction(\n",
              "            'suggestCharts', [key], {});\n",
              "      } catch (error) {\n",
              "        console.error('Error during call to suggestCharts:', error);\n",
              "      }\n",
              "      quickchartButtonEl.classList.remove('colab-df-spinner');\n",
              "      quickchartButtonEl.classList.add('colab-df-quickchart-complete');\n",
              "    }\n",
              "    (() => {\n",
              "      let quickchartButtonEl =\n",
              "        document.querySelector('#df-a91dda31-b78f-4f01-9056-fc53674dac84 button');\n",
              "      quickchartButtonEl.style.display =\n",
              "        google.colab.kernel.accessAllowed ? 'block' : 'none';\n",
              "    })();\n",
              "  </script>\n",
              "</div>\n",
              "\n",
              "    </div>\n",
              "  </div>\n"
            ],
            "application/vnd.google.colaboratory.intrinsic+json": {
              "type": "dataframe",
              "summary": "{\n  \"name\": \"df\",\n  \"rows\": 3,\n  \"fields\": [\n    {\n      \"column\": \"name\",\n      \"properties\": {\n        \"dtype\": \"boolean\",\n        \"num_unique_values\": 2,\n        \"samples\": [\n          true,\n          false\n        ],\n        \"semantic_type\": \"\",\n        \"description\": \"\"\n      }\n    },\n    {\n      \"column\": \"age\",\n      \"properties\": {\n        \"dtype\": \"boolean\",\n        \"num_unique_values\": 1,\n        \"samples\": [\n          false\n        ],\n        \"semantic_type\": \"\",\n        \"description\": \"\"\n      }\n    },\n    {\n      \"column\": \"city\",\n      \"properties\": {\n        \"dtype\": \"boolean\",\n        \"num_unique_values\": 2,\n        \"samples\": [\n          true\n        ],\n        \"semantic_type\": \"\",\n        \"description\": \"\"\n      }\n    }\n  ]\n}"
            }
          },
          "metadata": {},
          "execution_count": 24
        }
      ]
    },
    {
      "cell_type": "code",
      "source": [
        "# Handling missing values- mean(),mode(),median()\n",
        "\n",
        "\n",
        "df_with_nans=pd.DataFrame({'score':[80,90,None,95,None]})\n",
        "\n",
        "mean_imputed=df_with_nans['score'].fillna(df_with_nans[\"score\"].mean())\n",
        "print(mean_imputed)"
      ],
      "metadata": {
        "colab": {
          "base_uri": "https://localhost:8080/"
        },
        "id": "2QF2SzBuQKoU",
        "outputId": "a3eb4215-2a24-4422-ed81-1df5e928ab49"
      },
      "execution_count": null,
      "outputs": [
        {
          "output_type": "stream",
          "name": "stdout",
          "text": [
            "0    80.000000\n",
            "1    90.000000\n",
            "2    88.333333\n",
            "3    95.000000\n",
            "4    88.333333\n",
            "Name: score, dtype: float64\n"
          ]
        }
      ]
    },
    {
      "cell_type": "code",
      "source": [
        "#Removing rows/columns having missing values\n",
        "\n",
        "df=pd.DataFrame({\"score\":[80,90,None,95,None]})\n",
        "d=df.dropna()\n",
        "print(d)"
      ],
      "metadata": {
        "colab": {
          "base_uri": "https://localhost:8080/"
        },
        "id": "W3X-KBfARU3_",
        "outputId": "3615e190-e9e7-4453-e85b-4c08e8cb948e"
      },
      "execution_count": null,
      "outputs": [
        {
          "output_type": "stream",
          "name": "stdout",
          "text": [
            "   score\n",
            "0   80.0\n",
            "1   90.0\n",
            "3   95.0\n"
          ]
        }
      ]
    },
    {
      "cell_type": "code",
      "source": [
        "df=pd.DataFrame({\"score\":[80,90,None,95,None]})\n",
        "df.dropna(inplace=True) # dont need to save it we can modify in data frame itself, operations on original dataframe and gives the updated df\n",
        "print(df)"
      ],
      "metadata": {
        "colab": {
          "base_uri": "https://localhost:8080/"
        },
        "id": "ric6kiOjS8Ka",
        "outputId": "9409c52c-9a2d-42c6-a0a8-5e1dd2a06505"
      },
      "execution_count": null,
      "outputs": [
        {
          "output_type": "stream",
          "name": "stdout",
          "text": [
            "   score\n",
            "0   80.0\n",
            "1   90.0\n",
            "3   95.0\n"
          ]
        }
      ]
    },
    {
      "cell_type": "code",
      "source": [
        "#Sorting data: sort_values() and sort_index()\n",
        "\n",
        "data={\n",
        "    'name':['Alice','Bob','Charlie'],\n",
        "    'age':[25,30,35],\n",
        "    'city':['New York','San Francisco','Los Angeles']\n",
        "}\n",
        "df = pd.DataFrame(data)\n",
        "df_sorted_age=df.sort_values(by=\"age\",ascending=False)\n",
        "print(df_sorted_age)"
      ],
      "metadata": {
        "colab": {
          "base_uri": "https://localhost:8080/"
        },
        "id": "r6Vv5wNZTgXU",
        "outputId": "f5898157-24b2-4b6b-d9f1-83f72f91dfe4"
      },
      "execution_count": null,
      "outputs": [
        {
          "output_type": "stream",
          "name": "stdout",
          "text": [
            "      name  age           city\n",
            "2  Charlie   35    Los Angeles\n",
            "1      Bob   30  San Francisco\n",
            "0    Alice   25       New York\n"
          ]
        }
      ]
    },
    {
      "cell_type": "code",
      "source": [
        "#Sorting data: sort_values() and sort_index()\n",
        "\n",
        "data={\n",
        "    'name':['Alice','Bob','Charlie'],\n",
        "    'age':[25,30,35],\n",
        "    'city':['New York','San Francisco','Los Angeles']\n",
        "}\n",
        "\n",
        "# Create the DataFrame using the 'data' dictionary\n",
        "df = pd.DataFrame(data) #This line is changed from df_sorted_age to df to create the dataFrame, previously df was only storing values in file ipython-input-40-56fe74c6960a\n",
        "\n",
        "df_sorted_age = df.sort_values(by=\"age\")\n",
        "print(df_sorted_age)"
      ],
      "metadata": {
        "colab": {
          "base_uri": "https://localhost:8080/"
        },
        "id": "aHfoHQnFUlBp",
        "outputId": "8de65360-6410-46b0-b6c2-13f595791b10"
      },
      "execution_count": null,
      "outputs": [
        {
          "output_type": "stream",
          "name": "stdout",
          "text": [
            "      name  age           city\n",
            "0    Alice   25       New York\n",
            "1      Bob   30  San Francisco\n",
            "2  Charlie   35    Los Angeles\n"
          ]
        }
      ]
    },
    {
      "cell_type": "code",
      "source": [
        "# prompt: sort_index() example code\n",
        "\n",
        "#Sorting data: sort_values() and sort_index()\n",
        "\n",
        "data={\n",
        "    'name':['Alice','Bob','Charlie'],\n",
        "    'age':[25,30,35],\n",
        "    'city':['New York','San Francisco','Los Angeles']\n",
        "}\n",
        "\n",
        "# Create the DataFrame using the 'data' dictionary\n",
        "df = pd.DataFrame(data, index=['C','A','B'])\n",
        "print(df)\n",
        "# Sort the DataFrame by index in ascending order\n",
        "df_sorted_index = df.sort_index()\n",
        "print(\"DataFrame sorted by index:\\n\", df_sorted_index)\n",
        "\n",
        "# Sort the DataFrame by index in descending order\n",
        "df_sorted_index_desc = df.sort_index(ascending=False)\n",
        "print(\"\\nDataFrame sorted by index in descending order:\\n\", df_sorted_index_desc)\n"
      ],
      "metadata": {
        "colab": {
          "base_uri": "https://localhost:8080/"
        },
        "id": "bZkcFdM-VHzy",
        "outputId": "549bc923-4a5b-4d08-a9b0-7558b45890fc"
      },
      "execution_count": null,
      "outputs": [
        {
          "output_type": "stream",
          "name": "stdout",
          "text": [
            "      name  age           city\n",
            "C    Alice   25       New York\n",
            "A      Bob   30  San Francisco\n",
            "B  Charlie   35    Los Angeles\n",
            "DataFrame sorted by index:\n",
            "       name  age           city\n",
            "A      Bob   30  San Francisco\n",
            "B  Charlie   35    Los Angeles\n",
            "C    Alice   25       New York\n",
            "\n",
            "DataFrame sorted by index in descending order:\n",
            "       name  age           city\n",
            "C    Alice   25       New York\n",
            "B  Charlie   35    Los Angeles\n",
            "A      Bob   30  San Francisco\n"
          ]
        }
      ]
    },
    {
      "cell_type": "code",
      "source": [
        "#Data transformation techniques\n",
        "\n",
        "# Renaming columns\n",
        "data={\n",
        "    'name':['Alice','Bob','Charlie'],\n",
        "    'age':[25,30,35],\n",
        "    'city':['New York','San Francisco','Los Angeles']\n",
        "}\n",
        "df=pd.DataFrame(data)\n",
        "df.rename(columns={\"age\":\"new age\"},inplace=True)\n",
        "print(df)"
      ],
      "metadata": {
        "colab": {
          "base_uri": "https://localhost:8080/"
        },
        "id": "984B7DKtVg54",
        "outputId": "40f148b9-d08d-4436-edca-1babd533d518"
      },
      "execution_count": null,
      "outputs": [
        {
          "output_type": "stream",
          "name": "stdout",
          "text": [
            "      name  new age           city\n",
            "0    Alice       25       New York\n",
            "1      Bob       30  San Francisco\n",
            "2  Charlie       35    Los Angeles\n"
          ]
        }
      ]
    },
    {
      "cell_type": "markdown",
      "source": [
        "📌 inplace=True vs Without inplace in Pandas\n",
        "inplace=True ka matlab hota hai ki data ko directly modify karna (original DataFrame me changes save karna).\n",
        "Agar inplace=False ya default (inplace nahi diya) toh naya modified DataFrame return hota hai, par original DataFrame change nahi hota."
      ],
      "metadata": {
        "id": "Kg7kNE0BWyHO"
      }
    },
    {
      "cell_type": "code",
      "source": [
        "#basic descriptive statistics\n",
        "data={\n",
        "    'name':['Alice','Bob','Charlie'],\n",
        "    'age':[25,30,35],\n",
        "    'city':['New York','San Francisco','Los Angeles']\n",
        "}\n",
        "df=pd.DataFrame(data)\n",
        "print(df.describe())"
      ],
      "metadata": {
        "colab": {
          "base_uri": "https://localhost:8080/"
        },
        "id": "FEK7fDZ2WPMw",
        "outputId": "60445df3-d1f5-465e-b7ba-85dc653e0b0d"
      },
      "execution_count": null,
      "outputs": [
        {
          "output_type": "stream",
          "name": "stdout",
          "text": [
            "        age\n",
            "count   3.0\n",
            "mean   30.0\n",
            "std     5.0\n",
            "min    25.0\n",
            "25%    27.5\n",
            "50%    30.0\n",
            "75%    32.5\n",
            "max    35.0\n"
          ]
        }
      ]
    },
    {
      "cell_type": "code",
      "source": [
        "#Descriptive data\n",
        "print(df.info())\n"
      ],
      "metadata": {
        "colab": {
          "base_uri": "https://localhost:8080/"
        },
        "id": "QnAgLFBLXGcd",
        "outputId": "3c4759f3-dc74-4f44-939b-57ab9b50ceaf"
      },
      "execution_count": null,
      "outputs": [
        {
          "output_type": "stream",
          "name": "stdout",
          "text": [
            "<class 'pandas.core.frame.DataFrame'>\n",
            "RangeIndex: 3 entries, 0 to 2\n",
            "Data columns (total 3 columns):\n",
            " #   Column  Non-Null Count  Dtype \n",
            "---  ------  --------------  ----- \n",
            " 0   name    3 non-null      object\n",
            " 1   age     3 non-null      int64 \n",
            " 2   city    3 non-null      object\n",
            "dtypes: int64(1), object(2)\n",
            "memory usage: 204.0+ bytes\n",
            "None\n"
          ]
        }
      ]
    },
    {
      "cell_type": "code",
      "source": [
        "#changing data types\n",
        "df['age'].astype(float)"
      ],
      "metadata": {
        "colab": {
          "base_uri": "https://localhost:8080/",
          "height": 178
        },
        "id": "T1Wih8OXXea1",
        "outputId": "c6bb33be-4abc-44b1-f925-875f3dc8fb66"
      },
      "execution_count": null,
      "outputs": [
        {
          "output_type": "execute_result",
          "data": {
            "text/plain": [
              "0    25.0\n",
              "1    30.0\n",
              "2    35.0\n",
              "Name: age, dtype: float64"
            ],
            "text/html": [
              "<div>\n",
              "<style scoped>\n",
              "    .dataframe tbody tr th:only-of-type {\n",
              "        vertical-align: middle;\n",
              "    }\n",
              "\n",
              "    .dataframe tbody tr th {\n",
              "        vertical-align: top;\n",
              "    }\n",
              "\n",
              "    .dataframe thead th {\n",
              "        text-align: right;\n",
              "    }\n",
              "</style>\n",
              "<table border=\"1\" class=\"dataframe\">\n",
              "  <thead>\n",
              "    <tr style=\"text-align: right;\">\n",
              "      <th></th>\n",
              "      <th>age</th>\n",
              "    </tr>\n",
              "  </thead>\n",
              "  <tbody>\n",
              "    <tr>\n",
              "      <th>0</th>\n",
              "      <td>25.0</td>\n",
              "    </tr>\n",
              "    <tr>\n",
              "      <th>1</th>\n",
              "      <td>30.0</td>\n",
              "    </tr>\n",
              "    <tr>\n",
              "      <th>2</th>\n",
              "      <td>35.0</td>\n",
              "    </tr>\n",
              "  </tbody>\n",
              "</table>\n",
              "</div><br><label><b>dtype:</b> float64</label>"
            ]
          },
          "metadata": {},
          "execution_count": 57
        }
      ]
    },
    {
      "cell_type": "code",
      "source": [
        "#Data inspection- 1.unique()  2.value_counts()\n",
        "data={\"city\":['New York','San Francisco','Los Angeles','New York','San Francisco']}\n",
        "df=pd.DataFrame(data)\n",
        "print(\"unique cities : \",df['city'].unique())\n",
        "print(\"city counts : \",df[\"city\"].value_counts())"
      ],
      "metadata": {
        "colab": {
          "base_uri": "https://localhost:8080/"
        },
        "id": "nJOUmYTzXzqV",
        "outputId": "88e0c39b-1f1d-49c4-aff9-8f7c7593be13"
      },
      "execution_count": null,
      "outputs": [
        {
          "output_type": "stream",
          "name": "stdout",
          "text": [
            "unique cities :  ['New York' 'San Francisco' 'Los Angeles']\n",
            "city counts :  city\n",
            "New York         2\n",
            "San Francisco    2\n",
            "Los Angeles      1\n",
            "Name: count, dtype: int64\n"
          ]
        }
      ]
    },
    {
      "cell_type": "code",
      "source": [
        "#Viewing data\n",
        "data={\n",
        "    'name':['Alice','Bob','Charlie'],\n",
        "    'age':[25,30,35],\n",
        "    'city':['New York','San Francisco','Los Angeles']\n",
        "}\n",
        "df=pd.DataFrame(data)\n",
        "\n",
        "print(df.head(2))\n",
        "print(df.tail(2))\n",
        "print(df.sample(1))\n",
        "print(\"\\n shape of dataframe:\",df.shape)\n",
        "print(\"total elements in dataframe\",df.size)"
      ],
      "metadata": {
        "colab": {
          "base_uri": "https://localhost:8080/"
        },
        "id": "O1imuGYcYb49",
        "outputId": "417b3b01-a95c-4a0d-8daf-075c6574e793"
      },
      "execution_count": null,
      "outputs": [
        {
          "output_type": "stream",
          "name": "stdout",
          "text": [
            "    name  age           city\n",
            "0  Alice   25       New York\n",
            "1    Bob   30  San Francisco\n",
            "      name  age           city\n",
            "1      Bob   30  San Francisco\n",
            "2  Charlie   35    Los Angeles\n",
            "    name  age      city\n",
            "0  Alice   25  New York\n",
            "\n",
            " shape of dataframe: (3, 3)\n",
            "total elements in dataframe 9\n"
          ]
        }
      ]
    },
    {
      "cell_type": "code",
      "source": [
        "#Index and column management\n",
        "df_indexed = df.set_index(\"name\")  # Assign the result to df_indexed\n",
        "print(df_indexed)\n",
        "print(df_indexed.reset_index())  # Reset the index of df_indexed"
      ],
      "metadata": {
        "colab": {
          "base_uri": "https://localhost:8080/"
        },
        "id": "pnu1ZZQ_aBej",
        "outputId": "bf3fe449-7e1f-4718-9bd5-ff1a6cb24114"
      },
      "execution_count": null,
      "outputs": [
        {
          "output_type": "stream",
          "name": "stdout",
          "text": [
            "         age           city\n",
            "name                       \n",
            "Alice     25       New York\n",
            "Bob       30  San Francisco\n",
            "Charlie   35    Los Angeles\n",
            "      name  age           city\n",
            "0    Alice   25       New York\n",
            "1      Bob   30  San Francisco\n",
            "2  Charlie   35    Los Angeles\n"
          ]
        }
      ]
    },
    {
      "cell_type": "code",
      "source": [
        "#Data Aggregaion\n",
        "#perform simple calculations like - sum,average,count etc\n",
        "import pandas as pd\n",
        "data={\n",
        "    'category':['Alice','Bob','Charlie'],\n",
        "    'values':[25,30,35],\n",
        "    'score':[1,2,3]\n",
        "}\n",
        "df=pd.DataFrame(data)\n",
        "\n",
        "#Aggreagation : sum of \"values\" grouped by \"category\"\n",
        "result=df.groupby('category')[\"values\"].sum()\n",
        "print(result)"
      ],
      "metadata": {
        "id": "x6hhjijJadBs",
        "colab": {
          "base_uri": "https://localhost:8080/"
        },
        "outputId": "2c08b37d-9f86-4458-b38e-32ca3902661a"
      },
      "execution_count": 6,
      "outputs": [
        {
          "output_type": "stream",
          "name": "stdout",
          "text": [
            "category\n",
            "Alice      25\n",
            "Bob        30\n",
            "Charlie    35\n",
            "Name: values, dtype: int64\n"
          ]
        }
      ]
    },
    {
      "cell_type": "markdown",
      "source": [
        "Key Functions for grouping\n",
        "\n",
        "*   groupby()\n",
        "*   aggreagte()\n",
        "\n"
      ],
      "metadata": {
        "id": "3_Jx2zEMld-Y"
      }
    },
    {
      "cell_type": "code",
      "source": [
        "#groupby()\n",
        "#groupby()\n",
        "import pandas as pd\n",
        "data={\n",
        "    'department':[\"hr\",'it','hr','it','finance','finance'],\n",
        "    'employee':['alice','bob','charlie','david','eva','frank'],\n",
        "    'salary':[50000,55000,60000,65000,70000,75000]\n",
        "}\n",
        "df=pd.DataFrame(data)\n",
        "result=df.groupby(\"department\")[\"salary\"].mean() # key is department,#per department column salary ka mean\n",
        "print(result)"
      ],
      "metadata": {
        "colab": {
          "base_uri": "https://localhost:8080/"
        },
        "id": "03whUhVClD-6",
        "outputId": "f0e18c50-363e-42ed-e869-7506b2fafb22"
      },
      "execution_count": 9,
      "outputs": [
        {
          "output_type": "stream",
          "name": "stdout",
          "text": [
            "department\n",
            "finance    72500.0\n",
            "hr         55000.0\n",
            "it         60000.0\n",
            "Name: salary, dtype: float64\n"
          ]
        }
      ]
    },
    {
      "cell_type": "code",
      "source": [
        "#aggregate() - aggregation in pandas is the process of applying multiple operations(like sum,mean,count,etc) on grouped data\n",
        "import pandas as pd\n",
        "\n",
        "data={\n",
        "    'department':[\"hr\",'it','hr','it','finance','finance'],\n",
        "    'employee':['alice','bob','charlie','david','eva','frank'],\n",
        "    'salary':[50000,55000,60000,65000,70000,75000]\n",
        "}\n",
        "df=pd.DataFrame(data)\n",
        "result=df.groupby(\"department\")[\"salary\"].aggregate(['mean','sum','max','min']) # key is department,#per department column salary ka mean\n",
        "print(result)"
      ],
      "metadata": {
        "colab": {
          "base_uri": "https://localhost:8080/"
        },
        "id": "lxkU5BeUmhAL",
        "outputId": "dbf3e163-b52b-49db-cc75-f206fcee94c2"
      },
      "execution_count": 12,
      "outputs": [
        {
          "output_type": "stream",
          "name": "stdout",
          "text": [
            "               mean     sum    max    min\n",
            "department                               \n",
            "finance     72500.0  145000  75000  70000\n",
            "hr          55000.0  110000  60000  50000\n",
            "it          60000.0  120000  65000  55000\n"
          ]
        }
      ]
    },
    {
      "cell_type": "code",
      "source": [
        "#Merging , joining - pd.merge and df1.join(df2) same output"
      ],
      "metadata": {
        "id": "pcLBhcuLntSS"
      },
      "execution_count": 13,
      "outputs": []
    },
    {
      "cell_type": "code",
      "source": [
        "#joining dataframe\n",
        "import pandas as pd\n",
        "\n",
        "df_employee=pd.DataFrame({\n",
        "    'department':[\"hr\",'it','hr','it','finance','finance'],\n",
        "    'employee':['alice','bob','charlie','david','eva','frank'],\n",
        "    'salary':[50000,55000,60000,65000,70000,75000],\n",
        "    'department_id':[1,2,1,2,3,3]\n",
        "})\n",
        "\n",
        "df_department=pd.DataFrame({\n",
        "    'category':['Alice','Bob','Charlie'],\n",
        "    'values':[25,30,35],\n",
        "    'score':[1,2,3],\n",
        "    'department_id':[1,4,5]\n",
        "\n",
        "})\n",
        "\n",
        "#setting department_id as index for both dataframes\n",
        "df_employee.set_index(\"department_id\",inplace=True)\n",
        "df_department.set_index(\"department_id\",inplace=True)\n",
        "\n",
        "#joining the dataframes\n",
        "joined_df=df_employee.join(df_department,how=\"left\")\n",
        "print(joined_df)\n"
      ],
      "metadata": {
        "colab": {
          "base_uri": "https://localhost:8080/"
        },
        "id": "RttIAXgMotPf",
        "outputId": "3cb7900c-0189-4b7a-971d-ca50f1f7f3b2"
      },
      "execution_count": 23,
      "outputs": [
        {
          "output_type": "stream",
          "name": "stdout",
          "text": [
            "              department employee  salary category  values  score\n",
            "department_id                                                    \n",
            "1                     hr    alice   50000    Alice    25.0    1.0\n",
            "2                     it      bob   55000      NaN     NaN    NaN\n",
            "1                     hr  charlie   60000    Alice    25.0    1.0\n",
            "2                     it    david   65000      NaN     NaN    NaN\n",
            "3                finance      eva   70000      NaN     NaN    NaN\n",
            "3                finance    frank   75000      NaN     NaN    NaN\n"
          ]
        }
      ]
    },
    {
      "cell_type": "code",
      "source": [
        "#concatenating dataframes\n",
        "import pandas as pd\n",
        "\n",
        "#first dataframe : employee details in department 1\n",
        "df1=pd.DataFrame({\n",
        "    'category':['Alice','Bob','Charlie'],\n",
        "    'values':[25,30,35],\n",
        "    'score':[1,2,3],\n",
        "    'department_id':[1,4,5]\n",
        "\n",
        "})\n",
        "#second\n",
        "\n",
        "df2=pd.DataFrame({\n",
        "    'category':['Alice','Bob','Charlie'],\n",
        "    'values':[25,30,35],\n",
        "    'score':[1,2,3],\n",
        "    'department_id':[1,4,5]\n",
        "\n",
        "})\n",
        "#concatenating vertically along rows - axis 0\n",
        "concatenated_df=pd.concat([df1,df2],axis=0)#row wise\n",
        "print(concatenated_df)"
      ],
      "metadata": {
        "colab": {
          "base_uri": "https://localhost:8080/"
        },
        "id": "59IOdyscwNH_",
        "outputId": "e280a04e-3cd0-4e90-a728-f5859f2fc40d"
      },
      "execution_count": 17,
      "outputs": [
        {
          "output_type": "stream",
          "name": "stdout",
          "text": [
            "  category  values  score  department_id\n",
            "0    Alice      25      1              1\n",
            "1      Bob      30      2              4\n",
            "2  Charlie      35      3              5\n",
            "0    Alice      25      1              1\n",
            "1      Bob      30      2              4\n",
            "2  Charlie      35      3              5\n"
          ]
        }
      ]
    },
    {
      "cell_type": "code",
      "source": [
        "#merging dataframes\n",
        "import pandas as pd\n",
        "\n",
        "#first dataframe : employee details in department 1\n",
        "df1=pd.DataFrame({\n",
        "    'category':['Alice','Bob','Charlie'],\n",
        "    'values':[25,30,35],\n",
        "    'score':[1,2,3],\n",
        "    'department_id':[1,4,5]\n",
        "\n",
        "})\n",
        "#second\n",
        "\n",
        "df2=pd.DataFrame({\n",
        "    'category':['Alice','Bob','Charlie'],\n",
        "    'values':[25,30,35],\n",
        "    'score':[1,2,3],\n",
        "    'department_id':[1,4,5]\n",
        "\n",
        "})\n",
        "#merge\n",
        "concatenated_df=pd.merge(df1,df2,on='department_id',how='outer')\n",
        "print(concatenated_df)"
      ],
      "metadata": {
        "colab": {
          "base_uri": "https://localhost:8080/"
        },
        "id": "ltbAaH8V0zD0",
        "outputId": "9344ea42-6da9-4986-a129-28bcdbce0c09"
      },
      "execution_count": 24,
      "outputs": [
        {
          "output_type": "stream",
          "name": "stdout",
          "text": [
            "  category_x  values_x  score_x  department_id category_y  values_y  score_y\n",
            "0      Alice        25        1              1      Alice        25        1\n",
            "1        Bob        30        2              4        Bob        30        2\n",
            "2    Charlie        35        3              5    Charlie        35        3\n"
          ]
        }
      ]
    },
    {
      "cell_type": "code",
      "source": [
        "#Working with date and time\n",
        "import pandas as pd\n",
        "data={'date':['2023-01-01','2023-01-02','2023-01-03','2023-01-04','2023-01-05'],\n",
        "'sales':[200,300,400,500,600]}\n",
        "df=pd.DataFrame(data)\n",
        "df['date']=pd.to_datetime(df['date']) # convert strings to datetime\n",
        "print(df)"
      ],
      "metadata": {
        "colab": {
          "base_uri": "https://localhost:8080/"
        },
        "id": "oithvE7zxQNF",
        "outputId": "642c6c6c-29be-434f-fefc-abbf35d557f3"
      },
      "execution_count": 20,
      "outputs": [
        {
          "output_type": "stream",
          "name": "stdout",
          "text": [
            "        date  sales\n",
            "0 2023-01-01    200\n",
            "1 2023-01-02    300\n",
            "2 2023-01-03    400\n",
            "3 2023-01-04    500\n",
            "4 2023-01-05    600\n"
          ]
        }
      ]
    },
    {
      "cell_type": "code",
      "source": [
        "#opening and saving files\n",
        "\n",
        "import pandas as pd\n",
        "\n",
        "# reading data from a csv file\n",
        "df=pd.read_csv(\"data.csv\")\n",
        "print(df.head())"
      ],
      "metadata": {
        "id": "g40KqJnjzSZg"
      },
      "execution_count": null,
      "outputs": []
    },
    {
      "cell_type": "code",
      "source": [
        "#saving a dataframe to a new csv file\n",
        "df.to_csv(\"output.csv\",index=False)"
      ],
      "metadata": {
        "id": "O-RofrL1yvbN"
      },
      "execution_count": null,
      "outputs": []
    }
  ]
}