{
  "nbformat": 4,
  "nbformat_minor": 0,
  "metadata": {
    "colab": {
      "provenance": [],
      "authorship_tag": "ABX9TyPRpZKF6Z/yCDlYHNGNaT0i",
      "include_colab_link": true
    },
    "kernelspec": {
      "name": "python3",
      "display_name": "Python 3"
    },
    "language_info": {
      "name": "python"
    }
  },
  "cells": [
    {
      "cell_type": "markdown",
      "metadata": {
        "id": "view-in-github",
        "colab_type": "text"
      },
      "source": [
        "<a href=\"https://colab.research.google.com/github/Mohammedyounus21/colab/blob/main/stats.ipynb\" target=\"_parent\"><img src=\"https://colab.research.google.com/assets/colab-badge.svg\" alt=\"Open In Colab\"/></a>"
      ]
    },
    {
      "cell_type": "markdown",
      "source": [],
      "metadata": {
        "id": "JjZyrHe39zTJ"
      }
    },
    {
      "cell_type": "markdown",
      "source": [
        "Vector Algebra"
      ],
      "metadata": {
        "id": "urIYhqg191fi"
      }
    },
    {
      "cell_type": "code",
      "execution_count": null,
      "metadata": {
        "colab": {
          "base_uri": "https://localhost:8080/"
        },
        "id": "INJFK2Oi9tSW",
        "outputId": "b062abb5-19a7-4dfa-9158-c84857e8eca9"
      },
      "outputs": [
        {
          "output_type": "stream",
          "name": "stdout",
          "text": [
            "vector addition [3 4]\n",
            "vector substraction [1 2]\n"
          ]
        }
      ],
      "source": [
        "import numpy as np\n",
        "#define the vectors\n",
        "v1 = np.array([3,4])\n",
        "v2 = np.array([1,2])\n",
        "\n",
        "# perform addition and substraction\n",
        "v3 = v1 + v2\n",
        "v4 = v1 - v2\n",
        "\n",
        "print(\"vector addition\",v1)\n",
        "print(\"vector substraction\",v2)"
      ]
    },
    {
      "cell_type": "markdown",
      "source": [
        "dot product"
      ],
      "metadata": {
        "id": "pzFQJ18p_dau"
      }
    },
    {
      "cell_type": "code",
      "source": [
        "vector_a=np.array([3,4])\n",
        "vector_b=np.array([1,2])\n",
        "dot_product=np.dot(vector_a,vector_b)\n",
        "print(\"dot product\",dot_product)"
      ],
      "metadata": {
        "colab": {
          "base_uri": "https://localhost:8080/"
        },
        "id": "7k8FazY4-HsU",
        "outputId": "cf07bad3-550c-4844-ebc4-044d029c4c1f"
      },
      "execution_count": null,
      "outputs": [
        {
          "output_type": "stream",
          "name": "stdout",
          "text": [
            "dot product 11\n"
          ]
        }
      ]
    },
    {
      "cell_type": "markdown",
      "source": [
        "matrix addition and substraction"
      ],
      "metadata": {
        "id": "khxKBPnz_oz9"
      }
    },
    {
      "cell_type": "code",
      "source": [
        "matrix_a=np.array([[1,2],[3,4]])\n",
        "matrix_b=np.array([[5,6],[7,8]])\n",
        "matrix_c=matrix_a+matrix_b\n",
        "matrix_d=matrix_a-matrix_b\n",
        "print(\"matrix addition\",matrix_c)\n",
        "print(\"matrix substraction\",matrix_d)"
      ],
      "metadata": {
        "colab": {
          "base_uri": "https://localhost:8080/"
        },
        "id": "wY-5QiI4BBTK",
        "outputId": "147e844d-856f-4463-d3fd-2bba93dcebc4"
      },
      "execution_count": null,
      "outputs": [
        {
          "output_type": "stream",
          "name": "stdout",
          "text": [
            "matrix addition [[ 6  8]\n",
            " [10 12]]\n",
            "matrix substraction [[-4 -4]\n",
            " [-4 -4]]\n"
          ]
        }
      ]
    },
    {
      "cell_type": "code",
      "source": [
        "#MATRIX DETERMINANT\n",
        "matrix_a=np.array([[1,2],[3,4]])\n",
        "determinant=np.linalg.det(matrix_a)\n",
        "print(\"matrix determinant\",determinant)"
      ],
      "metadata": {
        "colab": {
          "base_uri": "https://localhost:8080/"
        },
        "id": "8Sbj31pHBHQo",
        "outputId": "202e55d6-777a-435e-bc3f-3ccaad9e1f96"
      },
      "execution_count": null,
      "outputs": [
        {
          "output_type": "stream",
          "name": "stdout",
          "text": [
            "matrix determinant -2.0000000000000004\n"
          ]
        }
      ]
    },
    {
      "cell_type": "code",
      "source": [
        "matrix_a"
      ],
      "metadata": {
        "colab": {
          "base_uri": "https://localhost:8080/"
        },
        "id": "o8mihJBwDT3y",
        "outputId": "b9754f2c-6f01-4d01-ab9d-30611e54ac64"
      },
      "execution_count": null,
      "outputs": [
        {
          "output_type": "execute_result",
          "data": {
            "text/plain": [
              "array([[1, 2],\n",
              "       [3, 4]])"
            ]
          },
          "metadata": {},
          "execution_count": 7
        }
      ]
    },
    {
      "cell_type": "code",
      "source": [
        "# matrix inverse\n",
        "matrix_a=np.array([[1,2],[3,4]])\n",
        "inverse_matrix=np.linalg.inv(matrix_a)\n",
        "print(\"matrix inverse\",inverse_matrix)"
      ],
      "metadata": {
        "colab": {
          "base_uri": "https://localhost:8080/"
        },
        "id": "PTeXP8UwDVm-",
        "outputId": "5ddca2be-c210-46ab-f209-73e1720c55c4"
      },
      "execution_count": null,
      "outputs": [
        {
          "output_type": "stream",
          "name": "stdout",
          "text": [
            "matrix inverse [[-2.   1. ]\n",
            " [ 1.5 -0.5]]\n"
          ]
        }
      ]
    },
    {
      "cell_type": "code",
      "source": [
        "# Matrix Transpose\n",
        "A=np.array([[1,2,3],\n",
        "           [4,5,6]])\n",
        "A_transpose=A.T\n",
        "print(A_transpose)"
      ],
      "metadata": {
        "colab": {
          "base_uri": "https://localhost:8080/"
        },
        "id": "JZyIoXU2ES15",
        "outputId": "1d3c1ead-9959-476d-e8fa-a34dfef734fd"
      },
      "execution_count": null,
      "outputs": [
        {
          "output_type": "stream",
          "name": "stdout",
          "text": [
            "[[1 4]\n",
            " [2 5]\n",
            " [3 6]]\n"
          ]
        }
      ]
    },
    {
      "cell_type": "markdown",
      "source": [
        "python code for Normal distribution , use norm.cdf() function to calculate the probability"
      ],
      "metadata": {
        "id": "dbl6UrDiqDaH"
      }
    },
    {
      "cell_type": "code",
      "source": [
        "from scipy.stats import norm\n",
        "\n",
        "#parameters\n",
        "mu=65 #mean height(inches)\n",
        "sigma=3 #standard deviation(inches)\n",
        "\n",
        "#z-scores for 62 and 68 inches\n",
        "z_62=(62-mu)/sigma\n",
        "z_68=(68-mu)/sigma\n",
        "\n",
        "#calculate the probabilities\n",
        "prob_62=norm.cdf(z_62)\n",
        "prob_68=norm.cdf(z_68)\n",
        "\n",
        "#probability of being between 62 and 68 inches\n",
        "probability=norm.cdf(z_68)-norm.cdf(z_62)\n",
        "\n",
        "print(\"probability of height between 62 and 68 inches\",probability)"
      ],
      "metadata": {
        "id": "JEFFHDbnFB6A",
        "colab": {
          "base_uri": "https://localhost:8080/"
        },
        "outputId": "6a44fff9-f164-475e-99bd-d323faa117dd"
      },
      "execution_count": null,
      "outputs": [
        {
          "output_type": "stream",
          "name": "stdout",
          "text": [
            "probability of height between 62 and 68 inches 0.6826894921370859\n"
          ]
        }
      ]
    },
    {
      "cell_type": "code",
      "source": [],
      "metadata": {
        "id": "2MCiLoOjrHrL"
      },
      "execution_count": null,
      "outputs": []
    }
  ]
}